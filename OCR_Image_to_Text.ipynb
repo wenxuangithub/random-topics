{
  "nbformat": 4,
  "nbformat_minor": 0,
  "metadata": {
    "colab": {
      "provenance": [],
      "authorship_tag": "ABX9TyP1B+xmTiaHOr9uRpzdcUSw"
    },
    "kernelspec": {
      "name": "python3",
      "display_name": "Python 3"
    },
    "language_info": {
      "name": "python"
    }
  },
  "cells": [
    {
      "cell_type": "code",
      "source": [
        "pip install pytesseract"
      ],
      "metadata": {
        "colab": {
          "base_uri": "https://localhost:8080/"
        },
        "id": "sWxQ5LxsmdTH",
        "outputId": "e10fb204-8fc0-466c-b13a-ba824df6fb0d"
      },
      "execution_count": null,
      "outputs": [
        {
          "output_type": "stream",
          "name": "stdout",
          "text": [
            "Collecting pytesseract\n",
            "  Downloading pytesseract-0.3.10-py3-none-any.whl (14 kB)\n",
            "Requirement already satisfied: packaging>=21.3 in /usr/local/lib/python3.10/dist-packages (from pytesseract) (24.1)\n",
            "Requirement already satisfied: Pillow>=8.0.0 in /usr/local/lib/python3.10/dist-packages (from pytesseract) (9.4.0)\n",
            "Installing collected packages: pytesseract\n",
            "Successfully installed pytesseract-0.3.10\n"
          ]
        }
      ]
    },
    {
      "cell_type": "code",
      "source": [
        "pip install pillow"
      ],
      "metadata": {
        "colab": {
          "base_uri": "https://localhost:8080/"
        },
        "id": "SPIT-VLAmkLV",
        "outputId": "3d368224-7ac9-465c-976d-5eba1fcddf2d"
      },
      "execution_count": null,
      "outputs": [
        {
          "output_type": "stream",
          "name": "stdout",
          "text": [
            "Requirement already satisfied: pillow in /usr/local/lib/python3.10/dist-packages (9.4.0)\n"
          ]
        }
      ]
    },
    {
      "cell_type": "code",
      "source": [
        "!sudo apt-get install tesseract-ocr"
      ],
      "metadata": {
        "colab": {
          "base_uri": "https://localhost:8080/"
        },
        "id": "PveqD4l3m3iW",
        "outputId": "af1f02e3-4f9a-4b3b-c1c0-9e49e32ecb0d"
      },
      "execution_count": null,
      "outputs": [
        {
          "output_type": "stream",
          "name": "stdout",
          "text": [
            "Reading package lists... Done\n",
            "Building dependency tree... Done\n",
            "Reading state information... Done\n",
            "The following additional packages will be installed:\n",
            "  tesseract-ocr-eng tesseract-ocr-osd\n",
            "The following NEW packages will be installed:\n",
            "  tesseract-ocr tesseract-ocr-eng tesseract-ocr-osd\n",
            "0 upgraded, 3 newly installed, 0 to remove and 45 not upgraded.\n",
            "Need to get 4,816 kB of archives.\n",
            "After this operation, 15.6 MB of additional disk space will be used.\n",
            "Get:1 http://archive.ubuntu.com/ubuntu jammy/universe amd64 tesseract-ocr-eng all 1:4.00~git30-7274cfa-1.1 [1,591 kB]\n",
            "Get:2 http://archive.ubuntu.com/ubuntu jammy/universe amd64 tesseract-ocr-osd all 1:4.00~git30-7274cfa-1.1 [2,990 kB]\n",
            "Get:3 http://archive.ubuntu.com/ubuntu jammy/universe amd64 tesseract-ocr amd64 4.1.1-2.1build1 [236 kB]\n",
            "Fetched 4,816 kB in 0s (23.1 MB/s)\n",
            "debconf: unable to initialize frontend: Dialog\n",
            "debconf: (No usable dialog-like program is installed, so the dialog based frontend cannot be used. at /usr/share/perl5/Debconf/FrontEnd/Dialog.pm line 78, <> line 3.)\n",
            "debconf: falling back to frontend: Readline\n",
            "debconf: unable to initialize frontend: Readline\n",
            "debconf: (This frontend requires a controlling tty.)\n",
            "debconf: falling back to frontend: Teletype\n",
            "dpkg-preconfigure: unable to re-open stdin: \n",
            "Selecting previously unselected package tesseract-ocr-eng.\n",
            "(Reading database ... 123576 files and directories currently installed.)\n",
            "Preparing to unpack .../tesseract-ocr-eng_1%3a4.00~git30-7274cfa-1.1_all.deb ...\n",
            "Unpacking tesseract-ocr-eng (1:4.00~git30-7274cfa-1.1) ...\n",
            "Selecting previously unselected package tesseract-ocr-osd.\n",
            "Preparing to unpack .../tesseract-ocr-osd_1%3a4.00~git30-7274cfa-1.1_all.deb ...\n",
            "Unpacking tesseract-ocr-osd (1:4.00~git30-7274cfa-1.1) ...\n",
            "Selecting previously unselected package tesseract-ocr.\n",
            "Preparing to unpack .../tesseract-ocr_4.1.1-2.1build1_amd64.deb ...\n",
            "Unpacking tesseract-ocr (4.1.1-2.1build1) ...\n",
            "Setting up tesseract-ocr-eng (1:4.00~git30-7274cfa-1.1) ...\n",
            "Setting up tesseract-ocr-osd (1:4.00~git30-7274cfa-1.1) ...\n",
            "Setting up tesseract-ocr (4.1.1-2.1build1) ...\n",
            "Processing triggers for man-db (2.10.2-1) ...\n"
          ]
        }
      ]
    },
    {
      "cell_type": "code",
      "source": [
        "import pytesseract\n",
        "from PIL import Image\n",
        "import os\n",
        "\n",
        "# Specify the folder path\n",
        "folder_path = '.'  # Use '.' for the current directory, or specify a full path\n",
        "\n",
        "# Loop through all PNG files in the folder\n",
        "for filename in os.listdir(folder_path):\n",
        "    if filename.lower().endswith('.png'):\n",
        "        # Construct full file path\n",
        "        image_path = os.path.join(folder_path, filename)\n",
        "\n",
        "        # Open the image file\n",
        "        image = Image.open(image_path)\n",
        "\n",
        "        # Perform OCR using PyTesseract\n",
        "        text = pytesseract.image_to_string(image)\n",
        "\n",
        "        # Get the base name of the image file (without extension)\n",
        "        base_name = os.path.splitext(filename)[0]\n",
        "\n",
        "        # Create a new text file with the same name as the image\n",
        "        output_file = os.path.join(folder_path, f\"{base_name}.txt\")\n",
        "\n",
        "        # Write the extracted text to the file\n",
        "        with open(output_file, 'w', encoding='utf-8') as file:\n",
        "            file.write(text)\n",
        "\n",
        "        print(f\"Text from {filename} has been saved to {output_file}\")"
      ],
      "metadata": {
        "colab": {
          "base_uri": "https://localhost:8080/"
        },
        "id": "wU3riCnFmnf_",
        "outputId": "c00114dc-a2c5-4e07-fa00-1d38ec506127"
      },
      "execution_count": null,
      "outputs": [
        {
          "output_type": "stream",
          "name": "stdout",
          "text": [
            "Text from 1.1.png has been saved to ./1.1.txt\n",
            "Text from 3.1.png has been saved to ./3.1.txt\n",
            "Text from 4.1.png has been saved to ./4.1.txt\n",
            "Text from 2.1.png has been saved to ./2.1.txt\n",
            "Text from 2.2.png has been saved to ./2.2.txt\n",
            "Text from 3.2.png has been saved to ./3.2.txt\n",
            "Text from 2.png has been saved to ./2.txt\n",
            "Text from 1.png has been saved to ./1.txt\n",
            "Text from 1.2.png has been saved to ./1.2.txt\n",
            "Text from 3.png has been saved to ./3.txt\n",
            "Text from 4.png has been saved to ./4.txt\n"
          ]
        }
      ]
    },
    {
      "cell_type": "code",
      "source": [],
      "metadata": {
        "id": "FfkCFW2lm6XE"
      },
      "execution_count": null,
      "outputs": []
    }
  ]
}