{
  "nbformat": 4,
  "nbformat_minor": 0,
  "metadata": {
    "colab": {
      "provenance": [],
      "authorship_tag": "ABX9TyNQgwxNRJDw50ARKdPFTpeE"
    },
    "kernelspec": {
      "name": "python3",
      "display_name": "Python 3"
    },
    "language_info": {
      "name": "python"
    }
  },
  "cells": [
    {
      "cell_type": "code",
      "execution_count": 1,
      "metadata": {
        "id": "3YfBS1uZIgWG"
      },
      "outputs": [],
      "source": [
        "import requests\n",
        "from bs4 import BeautifulSoup"
      ]
    },
    {
      "cell_type": "code",
      "source": [
        "url = \"https://www.nike.com/my/launch?s=upcoming\"\n",
        "headers = {\"User-Agent\" : \"Mozilla/5.0 (Windows NT 10.0; Win64; x64) AppleWebKit/537.36 (KHTML, like Gecko) Chrome/118.0.0.0 Safari/537.36\"}"
      ],
      "metadata": {
        "id": "8EYJBdJLJCru"
      },
      "execution_count": 43,
      "outputs": []
    },
    {
      "cell_type": "code",
      "source": [
        "response = requests.get(url, headers=headers)"
      ],
      "metadata": {
        "id": "bWDgIhyFJSI6"
      },
      "execution_count": 44,
      "outputs": []
    },
    {
      "cell_type": "code",
      "source": [
        "soup = BeautifulSoup(response.content, 'html.parser')"
      ],
      "metadata": {
        "id": "rXvt9JWqJZEi"
      },
      "execution_count": 45,
      "outputs": []
    },
    {
      "cell_type": "code",
      "source": [
        "soup.find_all('div', class_='available-date-component')"
      ],
      "metadata": {
        "colab": {
          "base_uri": "https://localhost:8080/"
        },
        "id": "vV1ZyazCJXmK",
        "outputId": "d6dc5411-50b1-427d-8c66-21647350ee74"
      },
      "execution_count": 48,
      "outputs": [
        {
          "output_type": "execute_result",
          "data": {
            "text/plain": [
              "[<div class=\"available-date-component\">Available 24/10 at 4:00 am</div>,\n",
              " <div class=\"available-date-component\">Available 24/10 at 4:00 am</div>,\n",
              " <div class=\"available-date-component\">Available 25/10 at 4:00 am</div>,\n",
              " <div class=\"available-date-component\">Available 25/10 at 4:00 am</div>,\n",
              " <div class=\"available-date-component\">Available 27/10 at 4:00 am</div>,\n",
              " <div class=\"available-date-component\">Available 28/10 at 2:00 am</div>,\n",
              " <div class=\"available-date-component\">Available 28/10 at 2:00 am</div>]"
            ]
          },
          "metadata": {},
          "execution_count": 48
        }
      ]
    },
    {
      "cell_type": "code",
      "source": [
        "soup.find_all('h3', class_='headline-5')"
      ],
      "metadata": {
        "colab": {
          "base_uri": "https://localhost:8080/"
        },
        "id": "U4lhLKBqKVex",
        "outputId": "2dad30e8-6cdb-46b8-9cdb-f581b4528372"
      },
      "execution_count": 47,
      "outputs": [
        {
          "output_type": "execute_result",
          "data": {
            "text/plain": [
              "[<h3 class=\"headline-5 mb1-sm fs16-sm\"> <!-- -->ISPA Universal</h3>,\n",
              " <h3 class=\"headline-5 mb1-sm fs16-sm\"> <!-- -->Women's Cortez</h3>,\n",
              " <h3 class=\"headline-5 mb1-sm fs16-sm\"> <!-- -->Air Max 2 CB '94</h3>,\n",
              " <h3 class=\"headline-5 mb1-sm fs16-sm\"> <!-- -->Women's Air Footscape Woven</h3>,\n",
              " <h3 class=\"headline-5 mb1-sm fs16-sm\"> <!-- -->Air Humara</h3>,\n",
              " <h3 class=\"headline-5 mb1-sm fs16-sm\"> <!-- -->Air Jordan 13</h3>,\n",
              " <h3 class=\"headline-5 mb1-sm fs16-sm\"> <!-- -->Air Jordan 12</h3>]"
            ]
          },
          "metadata": {},
          "execution_count": 47
        }
      ]
    },
    {
      "cell_type": "code",
      "source": [
        "resultlist = []\n",
        "\n",
        "for item in soup.find_all('div', class_=\"d-sm-tc va-sm-m\"):\n",
        "  name = item.h3.text.strip()\n",
        "  date = item.find('div', class_='available-date-component').text.strip()\n",
        "\n",
        "  result = {\n",
        "      \"Name\" : name,\n",
        "      \"Date\" : date\n",
        "  }\n",
        "\n",
        "  resultlist.append(result)"
      ],
      "metadata": {
        "id": "aqOQEdQDLCRK"
      },
      "execution_count": 49,
      "outputs": []
    },
    {
      "cell_type": "code",
      "source": [
        "resultlist"
      ],
      "metadata": {
        "colab": {
          "base_uri": "https://localhost:8080/"
        },
        "id": "nRfDCkurMpET",
        "outputId": "89ceb5ba-6fba-4ff8-8f0b-9b5af3043533"
      },
      "execution_count": 50,
      "outputs": [
        {
          "output_type": "execute_result",
          "data": {
            "text/plain": [
              "[{'Name': 'ISPA Universal', 'Date': 'Available 24/10 at 4:00 am'},\n",
              " {'Name': \"Women's Cortez\", 'Date': 'Available 24/10 at 4:00 am'},\n",
              " {'Name': \"Air Max 2 CB '94\", 'Date': 'Available 25/10 at 4:00 am'},\n",
              " {'Name': \"Women's Air Footscape Woven\", 'Date': 'Available 25/10 at 4:00 am'},\n",
              " {'Name': 'Air Humara', 'Date': 'Available 27/10 at 4:00 am'},\n",
              " {'Name': 'Air Jordan 13', 'Date': 'Available 28/10 at 2:00 am'},\n",
              " {'Name': 'Air Jordan 12', 'Date': 'Available 28/10 at 2:00 am'}]"
            ]
          },
          "metadata": {},
          "execution_count": 50
        }
      ]
    },
    {
      "cell_type": "code",
      "source": [
        "import json"
      ],
      "metadata": {
        "id": "knP8SjCKMtzb"
      },
      "execution_count": 22,
      "outputs": []
    },
    {
      "cell_type": "code",
      "source": [
        "json_result = json.dumps(resultlist, indent=3)\n",
        "print(json_result)"
      ],
      "metadata": {
        "colab": {
          "base_uri": "https://localhost:8080/"
        },
        "id": "IJ4KqlI0NNM7",
        "outputId": "066f02ed-ce7c-430d-db29-ed820dd2fdf9"
      },
      "execution_count": 55,
      "outputs": [
        {
          "output_type": "stream",
          "name": "stdout",
          "text": [
            "[\n",
            "   {\n",
            "      \"Name\": \"ISPA Universal\",\n",
            "      \"Date\": \"24/10\",\n",
            "      \"Time\": \"4:00 am\"\n",
            "   },\n",
            "   {\n",
            "      \"Name\": \"Women's Cortez\",\n",
            "      \"Date\": \"24/10\",\n",
            "      \"Time\": \"4:00 am\"\n",
            "   },\n",
            "   {\n",
            "      \"Name\": \"Air Max 2 CB '94\",\n",
            "      \"Date\": \"25/10\",\n",
            "      \"Time\": \"4:00 am\"\n",
            "   },\n",
            "   {\n",
            "      \"Name\": \"Women's Air Footscape Woven\",\n",
            "      \"Date\": \"25/10\",\n",
            "      \"Time\": \"4:00 am\"\n",
            "   },\n",
            "   {\n",
            "      \"Name\": \"Air Humara\",\n",
            "      \"Date\": \"27/10\",\n",
            "      \"Time\": \"4:00 am\"\n",
            "   },\n",
            "   {\n",
            "      \"Name\": \"Air Jordan 13\",\n",
            "      \"Date\": \"28/10\",\n",
            "      \"Time\": \"2:00 am\"\n",
            "   },\n",
            "   {\n",
            "      \"Name\": \"Air Jordan 12\",\n",
            "      \"Date\": \"28/10\",\n",
            "      \"Time\": \"2:00 am\"\n",
            "   }\n",
            "]\n"
          ]
        }
      ]
    },
    {
      "cell_type": "code",
      "source": [
        "import re"
      ],
      "metadata": {
        "id": "g9JygTAQNQH6"
      },
      "execution_count": 29,
      "outputs": []
    },
    {
      "cell_type": "code",
      "source": [
        "for item in soup.find_all('div', class_=\"d-sm-tc va-sm-m\"):\n",
        "  name = item.h3.text.strip()\n",
        "  date = item.find('div', class_='available-date-component').text.strip()\n",
        "\n",
        "  date_match = re.search(r'(\\d{1,2}/\\d{1,2})', date)\n",
        "  time_match = re.search(r'(\\d{1,2}:\\d{2} [APMapm]{2})', date)\n",
        "  print(time_match)"
      ],
      "metadata": {
        "colab": {
          "base_uri": "https://localhost:8080/"
        },
        "id": "AUXo_0NAQKwS",
        "outputId": "ecdbb7b3-c3f9-47d4-9450-d07813ac073b"
      },
      "execution_count": 54,
      "outputs": [
        {
          "output_type": "stream",
          "name": "stdout",
          "text": [
            "<re.Match object; span=(19, 26), match='4:00 am'>\n",
            "<re.Match object; span=(19, 26), match='4:00 am'>\n",
            "<re.Match object; span=(19, 26), match='4:00 am'>\n",
            "<re.Match object; span=(19, 26), match='4:00 am'>\n",
            "<re.Match object; span=(19, 26), match='4:00 am'>\n",
            "<re.Match object; span=(19, 26), match='2:00 am'>\n",
            "<re.Match object; span=(19, 26), match='2:00 am'>\n"
          ]
        }
      ]
    },
    {
      "cell_type": "code",
      "source": [
        "resultlist = []\n",
        "\n",
        "for item in soup.find_all('div', class_=\"d-sm-tc va-sm-m\"):\n",
        "  name = item.h3.text.strip()\n",
        "  date = item.find('div', class_='available-date-component').text.strip()\n",
        "\n",
        "  date_match = re.search(r'(\\d{1,2}/\\d{1,2})', date)\n",
        "  time_match = re.search(r'(\\d{1,2}:\\d{2} [APMapm]{2})', date)\n",
        "\n",
        "  if date_match and time_match:\n",
        "    date = date_match.group(1)\n",
        "    time = time_match.group(1)\n",
        "\n",
        "    result = {\n",
        "      \"Name\" : name,\n",
        "      \"Date\" : date,\n",
        "      \"Time\" : time\n",
        "    }\n",
        "\n",
        "  resultlist.append(result)\n",
        "\n",
        "json_result = json.dumps(resultlist, indent=3)"
      ],
      "metadata": {
        "id": "LteZFjS8PlyD"
      },
      "execution_count": 52,
      "outputs": []
    },
    {
      "cell_type": "code",
      "source": [
        "print(json_result)"
      ],
      "metadata": {
        "colab": {
          "base_uri": "https://localhost:8080/"
        },
        "id": "UdzP-nqEQtnj",
        "outputId": "c985c88f-49d3-40b2-f2c8-8f6a1155528f"
      },
      "execution_count": 56,
      "outputs": [
        {
          "output_type": "stream",
          "name": "stdout",
          "text": [
            "[\n",
            "   {\n",
            "      \"Name\": \"ISPA Universal\",\n",
            "      \"Date\": \"24/10\",\n",
            "      \"Time\": \"4:00 am\"\n",
            "   },\n",
            "   {\n",
            "      \"Name\": \"Women's Cortez\",\n",
            "      \"Date\": \"24/10\",\n",
            "      \"Time\": \"4:00 am\"\n",
            "   },\n",
            "   {\n",
            "      \"Name\": \"Air Max 2 CB '94\",\n",
            "      \"Date\": \"25/10\",\n",
            "      \"Time\": \"4:00 am\"\n",
            "   },\n",
            "   {\n",
            "      \"Name\": \"Women's Air Footscape Woven\",\n",
            "      \"Date\": \"25/10\",\n",
            "      \"Time\": \"4:00 am\"\n",
            "   },\n",
            "   {\n",
            "      \"Name\": \"Air Humara\",\n",
            "      \"Date\": \"27/10\",\n",
            "      \"Time\": \"4:00 am\"\n",
            "   },\n",
            "   {\n",
            "      \"Name\": \"Air Jordan 13\",\n",
            "      \"Date\": \"28/10\",\n",
            "      \"Time\": \"2:00 am\"\n",
            "   },\n",
            "   {\n",
            "      \"Name\": \"Air Jordan 12\",\n",
            "      \"Date\": \"28/10\",\n",
            "      \"Time\": \"2:00 am\"\n",
            "   }\n",
            "]\n"
          ]
        }
      ]
    },
    {
      "cell_type": "markdown",
      "source": [
        "### `Time adjustment`"
      ],
      "metadata": {
        "id": "5QN0CW7ETamK"
      }
    },
    {
      "cell_type": "code",
      "source": [
        "from datetime import datetime, timedelta\n",
        "import pytz"
      ],
      "metadata": {
        "id": "i_jT7xRhSjNq"
      },
      "execution_count": 57,
      "outputs": []
    },
    {
      "cell_type": "code",
      "source": [
        "from datetime import datetime, timedelta\n",
        "import pytz\n",
        "import json\n",
        "import re\n",
        "\n",
        "resultlist = []\n",
        "\n",
        "for item in soup.find_all('div', class_=\"d-sm-tc va-sm-m\"):\n",
        "    name = item.h3.text.strip()\n",
        "    date = item.find('div', class_='available-date-component').text.strip()\n",
        "\n",
        "    date_match = re.search(r'(\\d{1,2}/\\d{1,2})', date)\n",
        "    time_match = re.search(r'(\\d{1,2}:\\d{2} [APMapm]{2})', date)\n",
        "\n",
        "    if date_match and time_match:\n",
        "        date = date_match.group(1)\n",
        "        time = time_match.group(1)\n",
        "\n",
        "        # Convert the time to UTC+8\n",
        "        datetime_str = f\"{date} {time}\"\n",
        "        datetime_obj = datetime.strptime(datetime_str, \"%d/%m %I:%M %p\")\n",
        "\n",
        "        # Assuming UTC is the original timezone of your input\n",
        "        utc_time = datetime_obj.replace(tzinfo=pytz.utc)\n",
        "        utc_plus_8_time = utc_time.astimezone(pytz.timezone(\"Asia/Shanghai\"))\n",
        "\n",
        "        result = {\n",
        "            \"Name\": name,\n",
        "            \"Date\": date,\n",
        "            \"Time\": time,\n",
        "            \"Time (UTC+8)\": utc_plus_8_time.strftime(\"%H:%M %p\")\n",
        "        }\n",
        "\n",
        "        resultlist.append(result)\n",
        "\n",
        "json_result = json.dumps(resultlist, indent=3)\n",
        "print(json_result)\n"
      ],
      "metadata": {
        "colab": {
          "base_uri": "https://localhost:8080/"
        },
        "id": "nzmLpLFTTXaL",
        "outputId": "b0a09d0e-e234-44e0-a523-152c42fe8f05"
      },
      "execution_count": 67,
      "outputs": [
        {
          "output_type": "stream",
          "name": "stdout",
          "text": [
            "[\n",
            "   {\n",
            "      \"Name\": \"ISPA Universal\",\n",
            "      \"Date\": \"24/10\",\n",
            "      \"Time\": \"4:00 am\",\n",
            "      \"Time (UTC+8)\": \"12:06 PM\"\n",
            "   },\n",
            "   {\n",
            "      \"Name\": \"Women's Cortez\",\n",
            "      \"Date\": \"24/10\",\n",
            "      \"Time\": \"4:00 am\",\n",
            "      \"Time (UTC+8)\": \"12:06 PM\"\n",
            "   },\n",
            "   {\n",
            "      \"Name\": \"Air Max 2 CB '94\",\n",
            "      \"Date\": \"25/10\",\n",
            "      \"Time\": \"4:00 am\",\n",
            "      \"Time (UTC+8)\": \"12:06 PM\"\n",
            "   },\n",
            "   {\n",
            "      \"Name\": \"Women's Air Footscape Woven\",\n",
            "      \"Date\": \"25/10\",\n",
            "      \"Time\": \"4:00 am\",\n",
            "      \"Time (UTC+8)\": \"12:06 PM\"\n",
            "   },\n",
            "   {\n",
            "      \"Name\": \"Air Humara\",\n",
            "      \"Date\": \"27/10\",\n",
            "      \"Time\": \"4:00 am\",\n",
            "      \"Time (UTC+8)\": \"12:06 PM\"\n",
            "   },\n",
            "   {\n",
            "      \"Name\": \"Air Jordan 13\",\n",
            "      \"Date\": \"28/10\",\n",
            "      \"Time\": \"2:00 am\",\n",
            "      \"Time (UTC+8)\": \"10:06 AM\"\n",
            "   },\n",
            "   {\n",
            "      \"Name\": \"Air Jordan 12\",\n",
            "      \"Date\": \"28/10\",\n",
            "      \"Time\": \"2:00 am\",\n",
            "      \"Time (UTC+8)\": \"10:06 AM\"\n",
            "   }\n",
            "]\n"
          ]
        }
      ]
    },
    {
      "cell_type": "code",
      "source": [],
      "metadata": {
        "id": "RjuZ-ffAT71k"
      },
      "execution_count": null,
      "outputs": []
    }
  ]
}