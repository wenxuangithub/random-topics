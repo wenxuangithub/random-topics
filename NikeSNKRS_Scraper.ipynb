{
  "nbformat": 4,
  "nbformat_minor": 0,
  "metadata": {
    "colab": {
      "provenance": [],
      "authorship_tag": "ABX9TyPMlq3UPUlp4jft98USKJmJ"
    },
    "kernelspec": {
      "name": "python3",
      "display_name": "Python 3"
    },
    "language_info": {
      "name": "python"
    }
  },
  "cells": [
    {
      "cell_type": "code",
      "execution_count": null,
      "metadata": {
        "id": "3YfBS1uZIgWG"
      },
      "outputs": [],
      "source": [
        "import requests\n",
        "from bs4 import BeautifulSoup"
      ]
    },
    {
      "cell_type": "code",
      "source": [
        "url = \"https://www.nike.com/my/launch?s=upcoming\"\n",
        "headers = {\"User-Agent\" : \"Mozilla/5.0 (Windows NT 10.0; Win64; x64) AppleWebKit/537.36 (KHTML, like Gecko) Chrome/118.0.0.0 Safari/537.36\"}"
      ],
      "metadata": {
        "id": "8EYJBdJLJCru"
      },
      "execution_count": 4,
      "outputs": []
    },
    {
      "cell_type": "code",
      "source": [
        "response = requests.get(url, headers=headers)"
      ],
      "metadata": {
        "id": "bWDgIhyFJSI6"
      },
      "execution_count": 5,
      "outputs": []
    },
    {
      "cell_type": "code",
      "source": [
        "soup = BeautifulSoup(response.content, 'html.parser')"
      ],
      "metadata": {
        "id": "rXvt9JWqJZEi"
      },
      "execution_count": 6,
      "outputs": []
    },
    {
      "cell_type": "code",
      "source": [
        "soup.find_all('div', class_='available-date-component')"
      ],
      "metadata": {
        "colab": {
          "base_uri": "https://localhost:8080/"
        },
        "id": "vV1ZyazCJXmK",
        "outputId": "dfbd38c7-892d-4462-9896-c6e89113cd64"
      },
      "execution_count": null,
      "outputs": [
        {
          "output_type": "execute_result",
          "data": {
            "text/plain": [
              "[<div class=\"available-date-component\">Available 26/10 at 4:00 am</div>,\n",
              " <div class=\"available-date-component\">Available 26/10 at 4:00 am</div>,\n",
              " <div class=\"available-date-component\">Available 27/10 at 4:00 am</div>,\n",
              " <div class=\"available-date-component\">Available 27/10 at 4:00 am</div>,\n",
              " <div class=\"available-date-component\">Available 28/10 at 2:00 am</div>,\n",
              " <div class=\"available-date-component\">Available 28/10 at 2:00 am</div>,\n",
              " <div class=\"available-date-component\">Available 31/10 at 4:00 am</div>,\n",
              " <div class=\"available-date-component\">Available 01/11 at 4:00 am</div>,\n",
              " <div class=\"available-date-component\">Available 01/11 at 4:00 am</div>,\n",
              " <div class=\"available-date-component\">Available 01/11 at 4:00 am</div>]"
            ]
          },
          "metadata": {},
          "execution_count": 5
        }
      ]
    },
    {
      "cell_type": "code",
      "source": [
        "soup.find_all('h3', class_='headline-5')"
      ],
      "metadata": {
        "colab": {
          "base_uri": "https://localhost:8080/"
        },
        "id": "U4lhLKBqKVex",
        "outputId": "7f4acffb-7ccb-402c-ec71-329a9f466849"
      },
      "execution_count": null,
      "outputs": [
        {
          "output_type": "execute_result",
          "data": {
            "text/plain": [
              "[<h3 class=\"headline-5 mb1-sm fs16-sm\"> <!-- -->Air Max 2 CB '94</h3>,\n",
              " <h3 class=\"headline-5 mb1-sm fs16-sm\"> <!-- -->Women's Air Footscape Woven</h3>,\n",
              " <h3 class=\"headline-5 mb1-sm fs16-sm\"> <!-- -->SB Dunk Low Pro</h3>,\n",
              " <h3 class=\"headline-5 mb1-sm fs16-sm\"> <!-- -->Women's Dunk Low</h3>,\n",
              " <h3 class=\"headline-5 mb1-sm fs16-sm\"> <!-- -->Air Humara</h3>,\n",
              " <h3 class=\"headline-5 mb1-sm fs16-sm\"> <!-- -->Air Jordan 13</h3>,\n",
              " <h3 class=\"headline-5 mb1-sm fs16-sm\"> <!-- -->Air Jordan 12</h3>,\n",
              " <h3 class=\"headline-5 mb1-sm fs16-sm\"> <!-- -->Air VaporMax Moc Roam</h3>]"
            ]
          },
          "metadata": {},
          "execution_count": 6
        }
      ]
    },
    {
      "cell_type": "code",
      "source": [
        "soup.find_all('div', class_='d-sm-tc va-sm-m')"
      ],
      "metadata": {
        "colab": {
          "base_uri": "https://localhost:8080/"
        },
        "id": "EWXJS8X3d2Vv",
        "outputId": "a22087f1-e9d2-4bd3-a4bc-71e58f7e83af"
      },
      "execution_count": null,
      "outputs": [
        {
          "output_type": "execute_result",
          "data": {
            "text/plain": [
              "[<div class=\"d-sm-tc va-sm-m\"><h3 class=\"headline-5 mb1-sm fs16-sm\"> <!-- -->Air Max 2 CB '94</h3><h6 class=\"text-color-secondary mb-1-sm body-3\"><div class=\"available-date-component\">Available 25/10 at 4:00 am</div></h6></div>,\n",
              " <div class=\"d-sm-tc va-sm-m\"><h3 class=\"headline-5 mb1-sm fs16-sm\"> <!-- -->Women's Air Footscape Woven</h3><h6 class=\"text-color-secondary mb-1-sm body-3\"><div class=\"available-date-component\">Available 25/10 at 4:00 am</div></h6></div>,\n",
              " <div class=\"d-sm-tc va-sm-m\"><h3 class=\"headline-5 mb1-sm fs16-sm\"> <!-- -->SB Dunk Low Pro</h3><h6 class=\"text-color-secondary mb-1-sm body-3\"><div class=\"available-date-component\">Available 26/10 at 4:00 am</div></h6></div>,\n",
              " <div class=\"d-sm-tc va-sm-m\"><h3 class=\"headline-5 mb1-sm fs16-sm\"> <!-- -->Women's Dunk Low</h3><h6 class=\"text-color-secondary mb-1-sm body-3\"><div class=\"available-date-component\">Available 26/10 at 4:00 am</div></h6></div>,\n",
              " <div class=\"d-sm-tc va-sm-m\"><h3 class=\"headline-5 mb1-sm fs16-sm\"> <!-- -->Air Humara</h3><h6 class=\"text-color-secondary mb-1-sm body-3\"><div class=\"available-date-component\">Available 27/10 at 4:00 am</div></h6></div>,\n",
              " <div class=\"d-sm-tc va-sm-m\"><h3 class=\"headline-5 mb1-sm fs16-sm\"> <!-- -->Air Jordan 13</h3><h6 class=\"text-color-secondary mb-1-sm body-3\"><div class=\"available-date-component\">Available 28/10 at 2:00 am</div></h6></div>,\n",
              " <div class=\"d-sm-tc va-sm-m\"><h3 class=\"headline-5 mb1-sm fs16-sm\"> <!-- -->Air Jordan 12</h3><h6 class=\"text-color-secondary mb-1-sm body-3\"><div class=\"available-date-component\">Available 28/10 at 2:00 am</div></h6></div>,\n",
              " <div class=\"d-sm-tc va-sm-m\"><h3 class=\"headline-5 mb1-sm fs16-sm\"> <!-- -->Air VaporMax Moc Roam</h3><h6 class=\"text-color-secondary mb-1-sm body-3\"><div class=\"available-date-component\">Available 31/10 at 4:00 am</div></h6></div>]"
            ]
          },
          "metadata": {},
          "execution_count": 8
        }
      ]
    },
    {
      "cell_type": "code",
      "source": [
        "resultlist = []\n",
        "\n",
        "for item in soup.find_all('div', class_=\"d-sm-tc va-sm-m\"):\n",
        "  name = item.h3.text.strip()\n",
        "  date = item.find('div', class_='available-date-component').text.strip()\n",
        "\n",
        "  result = {\n",
        "      \"Name\" : name,\n",
        "      \"Date\" : date\n",
        "  }\n",
        "\n",
        "  resultlist.append(result)"
      ],
      "metadata": {
        "id": "aqOQEdQDLCRK"
      },
      "execution_count": null,
      "outputs": []
    },
    {
      "cell_type": "code",
      "source": [
        "resultlist"
      ],
      "metadata": {
        "colab": {
          "base_uri": "https://localhost:8080/"
        },
        "id": "nRfDCkurMpET",
        "outputId": "fc7f685b-a521-42d2-d1f7-e0922971dc4d"
      },
      "execution_count": null,
      "outputs": [
        {
          "output_type": "execute_result",
          "data": {
            "text/plain": [
              "[{'Name': \"Air Max 2 CB '94\", 'Date': 'Available 25/10 at 4:00 am'},\n",
              " {'Name': \"Women's Air Footscape Woven\", 'Date': 'Available 25/10 at 4:00 am'},\n",
              " {'Name': 'SB Dunk Low Pro', 'Date': 'Available 26/10 at 4:00 am'},\n",
              " {'Name': \"Women's Dunk Low\", 'Date': 'Available 26/10 at 4:00 am'},\n",
              " {'Name': 'Air Humara', 'Date': 'Available 27/10 at 4:00 am'},\n",
              " {'Name': 'Air Jordan 13', 'Date': 'Available 28/10 at 2:00 am'},\n",
              " {'Name': 'Air Jordan 12', 'Date': 'Available 28/10 at 2:00 am'},\n",
              " {'Name': 'Air VaporMax Moc Roam', 'Date': 'Available 31/10 at 4:00 am'}]"
            ]
          },
          "metadata": {},
          "execution_count": 10
        }
      ]
    },
    {
      "cell_type": "code",
      "source": [
        "import json"
      ],
      "metadata": {
        "id": "knP8SjCKMtzb"
      },
      "execution_count": null,
      "outputs": []
    },
    {
      "cell_type": "code",
      "source": [
        "json_result = json.dumps(resultlist, indent=3)\n",
        "print(json_result)"
      ],
      "metadata": {
        "colab": {
          "base_uri": "https://localhost:8080/"
        },
        "id": "IJ4KqlI0NNM7",
        "outputId": "00d64a6f-aa57-4535-f0d2-6ee82147e209"
      },
      "execution_count": null,
      "outputs": [
        {
          "output_type": "stream",
          "name": "stdout",
          "text": [
            "[\n",
            "   {\n",
            "      \"Name\": \"Air Max 2 CB '94\",\n",
            "      \"Date\": \"Available 25/10 at 4:00 am\"\n",
            "   },\n",
            "   {\n",
            "      \"Name\": \"Women's Air Footscape Woven\",\n",
            "      \"Date\": \"Available 25/10 at 4:00 am\"\n",
            "   },\n",
            "   {\n",
            "      \"Name\": \"SB Dunk Low Pro\",\n",
            "      \"Date\": \"Available 26/10 at 4:00 am\"\n",
            "   },\n",
            "   {\n",
            "      \"Name\": \"Women's Dunk Low\",\n",
            "      \"Date\": \"Available 26/10 at 4:00 am\"\n",
            "   },\n",
            "   {\n",
            "      \"Name\": \"Air Humara\",\n",
            "      \"Date\": \"Available 27/10 at 4:00 am\"\n",
            "   },\n",
            "   {\n",
            "      \"Name\": \"Air Jordan 13\",\n",
            "      \"Date\": \"Available 28/10 at 2:00 am\"\n",
            "   },\n",
            "   {\n",
            "      \"Name\": \"Air Jordan 12\",\n",
            "      \"Date\": \"Available 28/10 at 2:00 am\"\n",
            "   },\n",
            "   {\n",
            "      \"Name\": \"Air VaporMax Moc Roam\",\n",
            "      \"Date\": \"Available 31/10 at 4:00 am\"\n",
            "   }\n",
            "]\n"
          ]
        }
      ]
    },
    {
      "cell_type": "code",
      "source": [
        "import re"
      ],
      "metadata": {
        "id": "g9JygTAQNQH6"
      },
      "execution_count": null,
      "outputs": []
    },
    {
      "cell_type": "code",
      "source": [
        "for item in soup.find_all('div', class_=\"d-sm-tc va-sm-m\"):\n",
        "  name = item.h3.text.strip()\n",
        "  date = item.find('div', class_='available-date-component').text.strip()\n",
        "\n",
        "  date_match = re.search(r'(\\d{1,2}/\\d{1,2})', date)\n",
        "  time_match = re.search(r'(\\d{1,2}:\\d{2} [APMapm]{2})', date)\n",
        "  print(time_match)"
      ],
      "metadata": {
        "colab": {
          "base_uri": "https://localhost:8080/"
        },
        "id": "AUXo_0NAQKwS",
        "outputId": "ae78778e-4130-4879-f903-c4551f0fa52e"
      },
      "execution_count": null,
      "outputs": [
        {
          "output_type": "stream",
          "name": "stdout",
          "text": [
            "<re.Match object; span=(19, 26), match='4:00 am'>\n",
            "<re.Match object; span=(19, 26), match='4:00 am'>\n",
            "<re.Match object; span=(19, 26), match='4:00 am'>\n",
            "<re.Match object; span=(19, 26), match='4:00 am'>\n",
            "<re.Match object; span=(19, 26), match='4:00 am'>\n",
            "<re.Match object; span=(19, 26), match='2:00 am'>\n",
            "<re.Match object; span=(19, 26), match='2:00 am'>\n",
            "<re.Match object; span=(19, 26), match='4:00 am'>\n"
          ]
        }
      ]
    },
    {
      "cell_type": "code",
      "source": [
        "resultlist = []\n",
        "\n",
        "for item in soup.find_all('div', class_=\"d-sm-tc va-sm-m\"):\n",
        "  name = item.h3.text.strip()\n",
        "  date = item.find('div', class_='available-date-component').text.strip()\n",
        "\n",
        "  date_match = re.search(r'(\\d{1,2}/\\d{1,2})', date)\n",
        "  time_match = re.search(r'(\\d{1,2}:\\d{2} [APMapm]{2})', date)\n",
        "\n",
        "  if date_match and time_match:\n",
        "    date = date_match.group(1)\n",
        "    time = time_match.group(1)\n",
        "\n",
        "    result = {\n",
        "      \"Name\" : name,\n",
        "      \"Date\" : date,\n",
        "      \"Time\" : time\n",
        "    }\n",
        "\n",
        "  resultlist.append(result)\n",
        "\n",
        "json_result = json.dumps(resultlist, indent=3)"
      ],
      "metadata": {
        "id": "LteZFjS8PlyD"
      },
      "execution_count": null,
      "outputs": []
    },
    {
      "cell_type": "code",
      "source": [
        "print(json_result)"
      ],
      "metadata": {
        "colab": {
          "base_uri": "https://localhost:8080/"
        },
        "id": "UdzP-nqEQtnj",
        "outputId": "9f6c7bd1-410e-425e-a5f1-c9c8b00da33c"
      },
      "execution_count": null,
      "outputs": [
        {
          "output_type": "stream",
          "name": "stdout",
          "text": [
            "[\n",
            "   {\n",
            "      \"Name\": \"Air Max 2 CB '94\",\n",
            "      \"Date\": \"25/10\",\n",
            "      \"Time\": \"4:00 am\"\n",
            "   },\n",
            "   {\n",
            "      \"Name\": \"Women's Air Footscape Woven\",\n",
            "      \"Date\": \"25/10\",\n",
            "      \"Time\": \"4:00 am\"\n",
            "   },\n",
            "   {\n",
            "      \"Name\": \"SB Dunk Low Pro\",\n",
            "      \"Date\": \"26/10\",\n",
            "      \"Time\": \"4:00 am\"\n",
            "   },\n",
            "   {\n",
            "      \"Name\": \"Women's Dunk Low\",\n",
            "      \"Date\": \"26/10\",\n",
            "      \"Time\": \"4:00 am\"\n",
            "   },\n",
            "   {\n",
            "      \"Name\": \"Air Humara\",\n",
            "      \"Date\": \"27/10\",\n",
            "      \"Time\": \"4:00 am\"\n",
            "   },\n",
            "   {\n",
            "      \"Name\": \"Air Jordan 13\",\n",
            "      \"Date\": \"28/10\",\n",
            "      \"Time\": \"2:00 am\"\n",
            "   },\n",
            "   {\n",
            "      \"Name\": \"Air Jordan 12\",\n",
            "      \"Date\": \"28/10\",\n",
            "      \"Time\": \"2:00 am\"\n",
            "   },\n",
            "   {\n",
            "      \"Name\": \"Air VaporMax Moc Roam\",\n",
            "      \"Date\": \"31/10\",\n",
            "      \"Time\": \"4:00 am\"\n",
            "   }\n",
            "]\n"
          ]
        }
      ]
    },
    {
      "cell_type": "markdown",
      "source": [
        "### `Time adjustment`"
      ],
      "metadata": {
        "id": "5QN0CW7ETamK"
      }
    },
    {
      "cell_type": "code",
      "source": [
        "from datetime import datetime, timedelta\n",
        "import pytz"
      ],
      "metadata": {
        "id": "i_jT7xRhSjNq"
      },
      "execution_count": null,
      "outputs": []
    },
    {
      "cell_type": "code",
      "source": [
        "from datetime import datetime, timedelta\n",
        "import pytz\n",
        "import json\n",
        "import re\n",
        "\n",
        "resultlist = []\n",
        "\n",
        "for item in soup.find_all(\"a\", class_='ncss-col-sm-8 launch-details u-full-height va-sm-t full'):\n",
        "    link = 'https://www.nike.com'+ item['href']\n",
        "    name = item.h3.text.strip()\n",
        "    date = item.find('div', class_='available-date-component').text.strip()\n",
        "\n",
        "    date_match = re.search(r'(\\d{1,2}/\\d{1,2})', date)\n",
        "    time_match = re.search(r'(\\d{1,2}:\\d{2} [APMapm]{2})', date)\n",
        "\n",
        "    if date_match and time_match:\n",
        "        date = date_match.group(1)\n",
        "        time = time_match.group(1)\n",
        "\n",
        "        # Convert the time to UTC+8\n",
        "        datetime_str = f\"{date} {time}\"\n",
        "        datetime_obj = datetime.strptime(datetime_str, \"%d/%m %I:%M %p\")\n",
        "\n",
        "        # Assuming UTC is the original timezone of your input\n",
        "        utc_time = datetime_obj.replace(tzinfo=pytz.utc)\n",
        "        utc_plus_8_time = utc_time.astimezone(pytz.timezone(\"Asia/Shanghai\"))\n",
        "\n",
        "        result = {\n",
        "            \"Name\": name,\n",
        "            \"Date\": date,\n",
        "            \"Time\": time,\n",
        "            \"Time (UTC+8)\": utc_plus_8_time.strftime(\"%H:%M %p\"),\n",
        "            'Link': link\n",
        "        }\n",
        "\n",
        "        resultlist.append(result)\n",
        "\n",
        "json_result = json.dumps(resultlist, indent=3)\n",
        "print(json_result)\n"
      ],
      "metadata": {
        "colab": {
          "base_uri": "https://localhost:8080/",
          "height": 262
        },
        "id": "nzmLpLFTTXaL",
        "outputId": "35e7b5a4-5584-4cda-9474-1e1ebf9197c5"
      },
      "execution_count": 3,
      "outputs": [
        {
          "output_type": "error",
          "ename": "NameError",
          "evalue": "ignored",
          "traceback": [
            "\u001b[0;31m---------------------------------------------------------------------------\u001b[0m",
            "\u001b[0;31mNameError\u001b[0m                                 Traceback (most recent call last)",
            "\u001b[0;32m<ipython-input-3-20d2f8c20253>\u001b[0m in \u001b[0;36m<cell line: 8>\u001b[0;34m()\u001b[0m\n\u001b[1;32m      6\u001b[0m \u001b[0mresultlist\u001b[0m \u001b[0;34m=\u001b[0m \u001b[0;34m[\u001b[0m\u001b[0;34m]\u001b[0m\u001b[0;34m\u001b[0m\u001b[0;34m\u001b[0m\u001b[0m\n\u001b[1;32m      7\u001b[0m \u001b[0;34m\u001b[0m\u001b[0m\n\u001b[0;32m----> 8\u001b[0;31m \u001b[0;32mfor\u001b[0m \u001b[0mitem\u001b[0m \u001b[0;32min\u001b[0m \u001b[0msoup\u001b[0m\u001b[0;34m.\u001b[0m\u001b[0mfind_all\u001b[0m\u001b[0;34m(\u001b[0m\u001b[0;34m\"a\"\u001b[0m\u001b[0;34m,\u001b[0m \u001b[0mclass_\u001b[0m\u001b[0;34m=\u001b[0m\u001b[0;34m'ncss-col-sm-8 launch-details u-full-height va-sm-t full'\u001b[0m\u001b[0;34m)\u001b[0m\u001b[0;34m:\u001b[0m\u001b[0;34m\u001b[0m\u001b[0;34m\u001b[0m\u001b[0m\n\u001b[0m\u001b[1;32m      9\u001b[0m     \u001b[0mlink\u001b[0m \u001b[0;34m=\u001b[0m \u001b[0;34m'https://www.nike.com'\u001b[0m\u001b[0;34m+\u001b[0m \u001b[0mitem\u001b[0m\u001b[0;34m[\u001b[0m\u001b[0;34m'href'\u001b[0m\u001b[0;34m]\u001b[0m\u001b[0;34m\u001b[0m\u001b[0;34m\u001b[0m\u001b[0m\n\u001b[1;32m     10\u001b[0m     \u001b[0mname\u001b[0m \u001b[0;34m=\u001b[0m \u001b[0mitem\u001b[0m\u001b[0;34m.\u001b[0m\u001b[0mh3\u001b[0m\u001b[0;34m.\u001b[0m\u001b[0mtext\u001b[0m\u001b[0;34m.\u001b[0m\u001b[0mstrip\u001b[0m\u001b[0;34m(\u001b[0m\u001b[0;34m)\u001b[0m\u001b[0;34m\u001b[0m\u001b[0;34m\u001b[0m\u001b[0m\n",
            "\u001b[0;31mNameError\u001b[0m: name 'soup' is not defined"
          ]
        }
      ]
    },
    {
      "cell_type": "code",
      "source": [
        "import pandas as pd"
      ],
      "metadata": {
        "id": "RjuZ-ffAT71k"
      },
      "execution_count": null,
      "outputs": []
    },
    {
      "cell_type": "code",
      "source": [
        "df = pd.read_json(json_result)"
      ],
      "metadata": {
        "id": "Wtu5LLJ2ZxS4"
      },
      "execution_count": null,
      "outputs": []
    },
    {
      "cell_type": "code",
      "source": [
        "df"
      ],
      "metadata": {
        "colab": {
          "base_uri": "https://localhost:8080/",
          "height": 269
        },
        "id": "dMtkFXoFZ0sh",
        "outputId": "cd1d760a-1c79-43a7-8dac-d4c9b845bc0a"
      },
      "execution_count": null,
      "outputs": [
        {
          "output_type": "execute_result",
          "data": {
            "text/plain": [
              "                          Name   Date     Time Time (UTC+8)  \\\n",
              "0               ISPA Universal  24/10  4:00 am     12:06 PM   \n",
              "1               Women's Cortez  24/10  4:00 am     12:06 PM   \n",
              "2             Air Max 2 CB '94  25/10  4:00 am     12:06 PM   \n",
              "3  Women's Air Footscape Woven  25/10  4:00 am     12:06 PM   \n",
              "4                   Air Humara  27/10  4:00 am     12:06 PM   \n",
              "5                Air Jordan 13  28/10  2:00 am     10:06 AM   \n",
              "6                Air Jordan 12  28/10  2:00 am     10:06 AM   \n",
              "\n",
              "                                                Link  \n",
              "0  https://www.nike.com/my/launch/t/ispa-universa...  \n",
              "1  https://www.nike.com/my/launch/t/womens-cortez...  \n",
              "2  https://www.nike.com/my/launch/t/nike-air-max-...  \n",
              "3  https://www.nike.com/my/launch/t/womens-air-fo...  \n",
              "4  https://www.nike.com/my/launch/t/air-humara-bu...  \n",
              "5  https://www.nike.com/my/launch/t/air-jordan-13...  \n",
              "6  https://www.nike.com/my/launch/t/air-jordan-12...  "
            ],
            "text/html": [
              "\n",
              "  <div id=\"df-8862951a-0684-4239-994e-718867bf6427\" class=\"colab-df-container\">\n",
              "    <div>\n",
              "<style scoped>\n",
              "    .dataframe tbody tr th:only-of-type {\n",
              "        vertical-align: middle;\n",
              "    }\n",
              "\n",
              "    .dataframe tbody tr th {\n",
              "        vertical-align: top;\n",
              "    }\n",
              "\n",
              "    .dataframe thead th {\n",
              "        text-align: right;\n",
              "    }\n",
              "</style>\n",
              "<table border=\"1\" class=\"dataframe\">\n",
              "  <thead>\n",
              "    <tr style=\"text-align: right;\">\n",
              "      <th></th>\n",
              "      <th>Name</th>\n",
              "      <th>Date</th>\n",
              "      <th>Time</th>\n",
              "      <th>Time (UTC+8)</th>\n",
              "      <th>Link</th>\n",
              "    </tr>\n",
              "  </thead>\n",
              "  <tbody>\n",
              "    <tr>\n",
              "      <th>0</th>\n",
              "      <td>ISPA Universal</td>\n",
              "      <td>24/10</td>\n",
              "      <td>4:00 am</td>\n",
              "      <td>12:06 PM</td>\n",
              "      <td>https://www.nike.com/my/launch/t/ispa-universa...</td>\n",
              "    </tr>\n",
              "    <tr>\n",
              "      <th>1</th>\n",
              "      <td>Women's Cortez</td>\n",
              "      <td>24/10</td>\n",
              "      <td>4:00 am</td>\n",
              "      <td>12:06 PM</td>\n",
              "      <td>https://www.nike.com/my/launch/t/womens-cortez...</td>\n",
              "    </tr>\n",
              "    <tr>\n",
              "      <th>2</th>\n",
              "      <td>Air Max 2 CB '94</td>\n",
              "      <td>25/10</td>\n",
              "      <td>4:00 am</td>\n",
              "      <td>12:06 PM</td>\n",
              "      <td>https://www.nike.com/my/launch/t/nike-air-max-...</td>\n",
              "    </tr>\n",
              "    <tr>\n",
              "      <th>3</th>\n",
              "      <td>Women's Air Footscape Woven</td>\n",
              "      <td>25/10</td>\n",
              "      <td>4:00 am</td>\n",
              "      <td>12:06 PM</td>\n",
              "      <td>https://www.nike.com/my/launch/t/womens-air-fo...</td>\n",
              "    </tr>\n",
              "    <tr>\n",
              "      <th>4</th>\n",
              "      <td>Air Humara</td>\n",
              "      <td>27/10</td>\n",
              "      <td>4:00 am</td>\n",
              "      <td>12:06 PM</td>\n",
              "      <td>https://www.nike.com/my/launch/t/air-humara-bu...</td>\n",
              "    </tr>\n",
              "    <tr>\n",
              "      <th>5</th>\n",
              "      <td>Air Jordan 13</td>\n",
              "      <td>28/10</td>\n",
              "      <td>2:00 am</td>\n",
              "      <td>10:06 AM</td>\n",
              "      <td>https://www.nike.com/my/launch/t/air-jordan-13...</td>\n",
              "    </tr>\n",
              "    <tr>\n",
              "      <th>6</th>\n",
              "      <td>Air Jordan 12</td>\n",
              "      <td>28/10</td>\n",
              "      <td>2:00 am</td>\n",
              "      <td>10:06 AM</td>\n",
              "      <td>https://www.nike.com/my/launch/t/air-jordan-12...</td>\n",
              "    </tr>\n",
              "  </tbody>\n",
              "</table>\n",
              "</div>\n",
              "    <div class=\"colab-df-buttons\">\n",
              "\n",
              "  <div class=\"colab-df-container\">\n",
              "    <button class=\"colab-df-convert\" onclick=\"convertToInteractive('df-8862951a-0684-4239-994e-718867bf6427')\"\n",
              "            title=\"Convert this dataframe to an interactive table.\"\n",
              "            style=\"display:none;\">\n",
              "\n",
              "  <svg xmlns=\"http://www.w3.org/2000/svg\" height=\"24px\" viewBox=\"0 -960 960 960\">\n",
              "    <path d=\"M120-120v-720h720v720H120Zm60-500h600v-160H180v160Zm220 220h160v-160H400v160Zm0 220h160v-160H400v160ZM180-400h160v-160H180v160Zm440 0h160v-160H620v160ZM180-180h160v-160H180v160Zm440 0h160v-160H620v160Z\"/>\n",
              "  </svg>\n",
              "    </button>\n",
              "\n",
              "  <style>\n",
              "    .colab-df-container {\n",
              "      display:flex;\n",
              "      gap: 12px;\n",
              "    }\n",
              "\n",
              "    .colab-df-convert {\n",
              "      background-color: #E8F0FE;\n",
              "      border: none;\n",
              "      border-radius: 50%;\n",
              "      cursor: pointer;\n",
              "      display: none;\n",
              "      fill: #1967D2;\n",
              "      height: 32px;\n",
              "      padding: 0 0 0 0;\n",
              "      width: 32px;\n",
              "    }\n",
              "\n",
              "    .colab-df-convert:hover {\n",
              "      background-color: #E2EBFA;\n",
              "      box-shadow: 0px 1px 2px rgba(60, 64, 67, 0.3), 0px 1px 3px 1px rgba(60, 64, 67, 0.15);\n",
              "      fill: #174EA6;\n",
              "    }\n",
              "\n",
              "    .colab-df-buttons div {\n",
              "      margin-bottom: 4px;\n",
              "    }\n",
              "\n",
              "    [theme=dark] .colab-df-convert {\n",
              "      background-color: #3B4455;\n",
              "      fill: #D2E3FC;\n",
              "    }\n",
              "\n",
              "    [theme=dark] .colab-df-convert:hover {\n",
              "      background-color: #434B5C;\n",
              "      box-shadow: 0px 1px 3px 1px rgba(0, 0, 0, 0.15);\n",
              "      filter: drop-shadow(0px 1px 2px rgba(0, 0, 0, 0.3));\n",
              "      fill: #FFFFFF;\n",
              "    }\n",
              "  </style>\n",
              "\n",
              "    <script>\n",
              "      const buttonEl =\n",
              "        document.querySelector('#df-8862951a-0684-4239-994e-718867bf6427 button.colab-df-convert');\n",
              "      buttonEl.style.display =\n",
              "        google.colab.kernel.accessAllowed ? 'block' : 'none';\n",
              "\n",
              "      async function convertToInteractive(key) {\n",
              "        const element = document.querySelector('#df-8862951a-0684-4239-994e-718867bf6427');\n",
              "        const dataTable =\n",
              "          await google.colab.kernel.invokeFunction('convertToInteractive',\n",
              "                                                    [key], {});\n",
              "        if (!dataTable) return;\n",
              "\n",
              "        const docLinkHtml = 'Like what you see? Visit the ' +\n",
              "          '<a target=\"_blank\" href=https://colab.research.google.com/notebooks/data_table.ipynb>data table notebook</a>'\n",
              "          + ' to learn more about interactive tables.';\n",
              "        element.innerHTML = '';\n",
              "        dataTable['output_type'] = 'display_data';\n",
              "        await google.colab.output.renderOutput(dataTable, element);\n",
              "        const docLink = document.createElement('div');\n",
              "        docLink.innerHTML = docLinkHtml;\n",
              "        element.appendChild(docLink);\n",
              "      }\n",
              "    </script>\n",
              "  </div>\n",
              "\n",
              "\n",
              "<div id=\"df-ae8c3fd5-5d73-4ecd-b848-ff7d9bc234cf\">\n",
              "  <button class=\"colab-df-quickchart\" onclick=\"quickchart('df-ae8c3fd5-5d73-4ecd-b848-ff7d9bc234cf')\"\n",
              "            title=\"Suggest charts.\"\n",
              "            style=\"display:none;\">\n",
              "\n",
              "<svg xmlns=\"http://www.w3.org/2000/svg\" height=\"24px\"viewBox=\"0 0 24 24\"\n",
              "     width=\"24px\">\n",
              "    <g>\n",
              "        <path d=\"M19 3H5c-1.1 0-2 .9-2 2v14c0 1.1.9 2 2 2h14c1.1 0 2-.9 2-2V5c0-1.1-.9-2-2-2zM9 17H7v-7h2v7zm4 0h-2V7h2v10zm4 0h-2v-4h2v4z\"/>\n",
              "    </g>\n",
              "</svg>\n",
              "  </button>\n",
              "\n",
              "<style>\n",
              "  .colab-df-quickchart {\n",
              "      --bg-color: #E8F0FE;\n",
              "      --fill-color: #1967D2;\n",
              "      --hover-bg-color: #E2EBFA;\n",
              "      --hover-fill-color: #174EA6;\n",
              "      --disabled-fill-color: #AAA;\n",
              "      --disabled-bg-color: #DDD;\n",
              "  }\n",
              "\n",
              "  [theme=dark] .colab-df-quickchart {\n",
              "      --bg-color: #3B4455;\n",
              "      --fill-color: #D2E3FC;\n",
              "      --hover-bg-color: #434B5C;\n",
              "      --hover-fill-color: #FFFFFF;\n",
              "      --disabled-bg-color: #3B4455;\n",
              "      --disabled-fill-color: #666;\n",
              "  }\n",
              "\n",
              "  .colab-df-quickchart {\n",
              "    background-color: var(--bg-color);\n",
              "    border: none;\n",
              "    border-radius: 50%;\n",
              "    cursor: pointer;\n",
              "    display: none;\n",
              "    fill: var(--fill-color);\n",
              "    height: 32px;\n",
              "    padding: 0;\n",
              "    width: 32px;\n",
              "  }\n",
              "\n",
              "  .colab-df-quickchart:hover {\n",
              "    background-color: var(--hover-bg-color);\n",
              "    box-shadow: 0 1px 2px rgba(60, 64, 67, 0.3), 0 1px 3px 1px rgba(60, 64, 67, 0.15);\n",
              "    fill: var(--button-hover-fill-color);\n",
              "  }\n",
              "\n",
              "  .colab-df-quickchart-complete:disabled,\n",
              "  .colab-df-quickchart-complete:disabled:hover {\n",
              "    background-color: var(--disabled-bg-color);\n",
              "    fill: var(--disabled-fill-color);\n",
              "    box-shadow: none;\n",
              "  }\n",
              "\n",
              "  .colab-df-spinner {\n",
              "    border: 2px solid var(--fill-color);\n",
              "    border-color: transparent;\n",
              "    border-bottom-color: var(--fill-color);\n",
              "    animation:\n",
              "      spin 1s steps(1) infinite;\n",
              "  }\n",
              "\n",
              "  @keyframes spin {\n",
              "    0% {\n",
              "      border-color: transparent;\n",
              "      border-bottom-color: var(--fill-color);\n",
              "      border-left-color: var(--fill-color);\n",
              "    }\n",
              "    20% {\n",
              "      border-color: transparent;\n",
              "      border-left-color: var(--fill-color);\n",
              "      border-top-color: var(--fill-color);\n",
              "    }\n",
              "    30% {\n",
              "      border-color: transparent;\n",
              "      border-left-color: var(--fill-color);\n",
              "      border-top-color: var(--fill-color);\n",
              "      border-right-color: var(--fill-color);\n",
              "    }\n",
              "    40% {\n",
              "      border-color: transparent;\n",
              "      border-right-color: var(--fill-color);\n",
              "      border-top-color: var(--fill-color);\n",
              "    }\n",
              "    60% {\n",
              "      border-color: transparent;\n",
              "      border-right-color: var(--fill-color);\n",
              "    }\n",
              "    80% {\n",
              "      border-color: transparent;\n",
              "      border-right-color: var(--fill-color);\n",
              "      border-bottom-color: var(--fill-color);\n",
              "    }\n",
              "    90% {\n",
              "      border-color: transparent;\n",
              "      border-bottom-color: var(--fill-color);\n",
              "    }\n",
              "  }\n",
              "</style>\n",
              "\n",
              "  <script>\n",
              "    async function quickchart(key) {\n",
              "      const quickchartButtonEl =\n",
              "        document.querySelector('#' + key + ' button');\n",
              "      quickchartButtonEl.disabled = true;  // To prevent multiple clicks.\n",
              "      quickchartButtonEl.classList.add('colab-df-spinner');\n",
              "      try {\n",
              "        const charts = await google.colab.kernel.invokeFunction(\n",
              "            'suggestCharts', [key], {});\n",
              "      } catch (error) {\n",
              "        console.error('Error during call to suggestCharts:', error);\n",
              "      }\n",
              "      quickchartButtonEl.classList.remove('colab-df-spinner');\n",
              "      quickchartButtonEl.classList.add('colab-df-quickchart-complete');\n",
              "    }\n",
              "    (() => {\n",
              "      let quickchartButtonEl =\n",
              "        document.querySelector('#df-ae8c3fd5-5d73-4ecd-b848-ff7d9bc234cf button');\n",
              "      quickchartButtonEl.style.display =\n",
              "        google.colab.kernel.accessAllowed ? 'block' : 'none';\n",
              "    })();\n",
              "  </script>\n",
              "</div>\n",
              "    </div>\n",
              "  </div>\n"
            ]
          },
          "metadata": {},
          "execution_count": 54
        }
      ]
    },
    {
      "cell_type": "code",
      "source": [
        "links = soup.find_all(\"a\", class_='ncss-col-sm-8 launch-details u-full-height va-sm-t full')"
      ],
      "metadata": {
        "id": "VCbAtnMSaJC5"
      },
      "execution_count": null,
      "outputs": []
    },
    {
      "cell_type": "code",
      "source": [
        "for linklist in links:\n",
        "\n",
        "  raw = linklist['href']\n",
        "  url_pattern = r'/([^/]+)$'\n",
        "\n",
        "  matches = re.findall(url_pattern, raw)\n",
        "\n",
        "  for match in matches:\n",
        "    print(match)\n"
      ],
      "metadata": {
        "colab": {
          "base_uri": "https://localhost:8080/"
        },
        "id": "N4RHvopRdCiQ",
        "outputId": "1856ca8f-1381-4517-c747-9b7ef771bb87"
      },
      "execution_count": null,
      "outputs": [
        {
          "output_type": "stream",
          "name": "stdout",
          "text": [
            "nike-air-max-2-cb-94-black-and-metallic-silver\n",
            "womens-air-footscape-woven-fir\n",
            "sb-dunk-low-pro-black-and-gum\n",
            "womens-dunk-low-summit-white-and-cacao-wow\n",
            "air-humara-buff-gold\n",
            "air-jordan-13-wheat\n",
            "air-jordan-12-cherry\n",
            "air-vapormax-moc-roam-light-stone-and-luminous-green\n"
          ]
        }
      ]
    },
    {
      "cell_type": "code",
      "source": [
        "#skuraw = soup.find_all('a', class_='card-link d-sm-b')"
      ],
      "metadata": {
        "id": "FRqmm-4Afevm"
      },
      "execution_count": null,
      "outputs": []
    },
    {
      "cell_type": "markdown",
      "source": [
        "https://api.nike.com/deliver/available_gtins/v3/?filter=styleColor(SKUID)&filter=merchGroup(XA)"
      ],
      "metadata": {
        "id": "PTmPhVWZlnCs"
      }
    },
    {
      "cell_type": "code",
      "source": [
        "for extract in skuraw:\n",
        "  print(extract.find_all('img', class_='image-component'))"
      ],
      "metadata": {
        "colab": {
          "base_uri": "https://localhost:8080/"
        },
        "id": "xeJgMIRsjPcN",
        "outputId": "0b506472-f408-4377-dcc0-63a0f3b32941"
      },
      "execution_count": null,
      "outputs": [
        {
          "output_type": "stream",
          "name": "stdout",
          "text": [
            "[]\n",
            "[]\n",
            "[]\n",
            "[]\n",
            "[]\n",
            "[]\n",
            "[]\n",
            "[]\n"
          ]
        }
      ]
    },
    {
      "cell_type": "code",
      "source": [
        "skuraw = soup.find_all('img', class_='image-component')\n",
        "sku_pattern = r'/([a-zA-Z0-9-]+)-release-date\\.jpg$'\n",
        "for items in skuraw :\n",
        "  skuid = items['src']\n",
        "  match = re.search(sku_pattern, skuid)\n",
        "  if match:\n",
        "    sku_id = match.group(1)\n",
        "    print(sku_id)\n",
        "    print((sku_id[-10:]).upper())\n",
        "  else:\n",
        "    print(\"SKU ID not found\")"
      ],
      "metadata": {
        "colab": {
          "base_uri": "https://localhost:8080/"
        },
        "id": "GHcL_RpQnn7k",
        "outputId": "c5781bb9-c327-47b6-c2b9-60582d5cdce6"
      },
      "execution_count": null,
      "outputs": [
        {
          "output_type": "stream",
          "name": "stdout",
          "text": [
            "nike-air-max-2-cb-94-black-and-metallic-silver-dc1411-001\n",
            "DC1411-001\n",
            "women-s-air-footscape-woven-fir-fn3540-300\n",
            "FN3540-300\n",
            "sb-dunk-low-pro-black-and-gum-cd2563-006\n",
            "CD2563-006\n",
            "women-s-dunk-low-summit-white-and-cacao-wow-fv3642-010\n",
            "FV3642-010\n",
            "air-humara-buff-gold-fj7098-701\n",
            "FJ7098-701\n",
            "air-jordan-13-wheat-414571-171\n",
            "414571-171\n",
            "air-jordan-12-cherry-ct8013-116\n",
            "CT8013-116\n",
            "air-vapormax-moc-roam-light-stone-and-luminous-green-dz7273-100\n",
            "DZ7273-100\n"
          ]
        }
      ]
    },
    {
      "cell_type": "code",
      "source": [
        "url_part = \"women-s-air-footscape-woven-fir-fn3540-300\"\n",
        "print(url_part[-10:])"
      ],
      "metadata": {
        "id": "MnARiFl1oKm0",
        "colab": {
          "base_uri": "https://localhost:8080/"
        },
        "outputId": "9b62e7ea-1791-47f2-e19a-325aaf5246bc"
      },
      "execution_count": null,
      "outputs": [
        {
          "output_type": "stream",
          "name": "stdout",
          "text": [
            "fn3540-300\n"
          ]
        }
      ]
    },
    {
      "cell_type": "code",
      "source": [
        "#merge\n",
        "\n",
        "from datetime import datetime, timedelta\n",
        "import pytz\n",
        "import json\n",
        "import re\n",
        "\n",
        "resultlist = []\n",
        "\n",
        "details = soup.find_all(\"a\", class_='ncss-col-sm-8 launch-details u-full-height va-sm-t full')\n",
        "skuraw = soup.find_all('img', class_='image-component')\n",
        "\n",
        "for item, sku in zip(details, skuraw) :\n",
        "    link = 'https://www.nike.com'+ item['href']\n",
        "    name = item.h3.text.strip()\n",
        "    date = item.find('div', class_='available-date-component').text.strip()\n",
        "\n",
        "    date_match = re.search(r'(\\d{1,2}/\\d{1,2})', date)\n",
        "    time_match = re.search(r'(\\d{1,2}:\\d{2} [APMapm]{2})', date)\n",
        "    sku_pattern = r'/([a-zA-Z0-9-]+)-release-date\\.jpg$'\n",
        "\n",
        "    skuid = sku['src']\n",
        "    match = re.search(sku_pattern, skuid)\n",
        "    if match:\n",
        "      sku_id = match.group(1)\n",
        "      ref = sku_id[:-11]\n",
        "\n",
        "      if date_match and time_match:\n",
        "          date = date_match.group(1)\n",
        "          time = time_match.group(1)\n",
        "\n",
        "          # Convert the time to UTC+8\n",
        "          datetime_str = f\"{date} {time}\"\n",
        "          datetime_obj = datetime.strptime(datetime_str, \"%d/%m %I:%M %p\")\n",
        "\n",
        "          # Assuming UTC is the original timezone of your input\n",
        "          utc_time = datetime_obj.replace(tzinfo=pytz.utc)\n",
        "          utc_plus_8_time = utc_time.astimezone(pytz.timezone(\"Asia/Shanghai\"))\n",
        "\n",
        "          result = {\n",
        "              \"Name\": name,\n",
        "              \"Date\": date,\n",
        "              \"Time\": time,\n",
        "              \"Time (UTC+8)\": utc_plus_8_time.strftime(\"%H:%M %p\"),\n",
        "              'Link': link,\n",
        "              'Skuid' : (sku_id[-10:]).upper(),\n",
        "              'Reference' : ref\n",
        "          }\n",
        "\n",
        "          resultlist.append(result)\n",
        "\n",
        "#resultlist the json output of the scrapped data\n",
        "json_result = json.dumps(resultlist, indent=3)\n",
        "print(json_result)\n"
      ],
      "metadata": {
        "colab": {
          "base_uri": "https://localhost:8080/"
        },
        "id": "byDwViFA7Nz6",
        "outputId": "070556a5-b55f-4f60-ec81-3ff1ae36f279"
      },
      "execution_count": 7,
      "outputs": [
        {
          "output_type": "stream",
          "name": "stdout",
          "text": [
            "[\n",
            "   {\n",
            "      \"Name\": \"Air Jordan 13\",\n",
            "      \"Date\": \"28/10\",\n",
            "      \"Time\": \"2:00 am\",\n",
            "      \"Time (UTC+8)\": \"10:06 AM\",\n",
            "      \"Link\": \"https://www.nike.com/my/launch/t/air-jordan-13-wheat\",\n",
            "      \"Skuid\": \"414571-171\",\n",
            "      \"Reference\": \"air-jordan-13-wheat\"\n",
            "   },\n",
            "   {\n",
            "      \"Name\": \"Air Jordan 12\",\n",
            "      \"Date\": \"28/10\",\n",
            "      \"Time\": \"2:00 am\",\n",
            "      \"Time (UTC+8)\": \"10:06 AM\",\n",
            "      \"Link\": \"https://www.nike.com/my/launch/t/air-jordan-12-cherry\",\n",
            "      \"Skuid\": \"CT8013-116\",\n",
            "      \"Reference\": \"air-jordan-12-cherry\"\n",
            "   },\n",
            "   {\n",
            "      \"Name\": \"Air VaporMax Moc Roam\",\n",
            "      \"Date\": \"31/10\",\n",
            "      \"Time\": \"4:00 am\",\n",
            "      \"Time (UTC+8)\": \"12:06 PM\",\n",
            "      \"Link\": \"https://www.nike.com/my/launch/t/air-vapormax-moc-roam-light-stone-and-luminous-green\",\n",
            "      \"Skuid\": \"DZ7273-100\",\n",
            "      \"Reference\": \"air-vapormax-moc-roam-light-stone-and-luminous-green\"\n",
            "   },\n",
            "   {\n",
            "      \"Name\": \"Terminator High\",\n",
            "      \"Date\": \"01/11\",\n",
            "      \"Time\": \"4:00 am\",\n",
            "      \"Time (UTC+8)\": \"12:06 PM\",\n",
            "      \"Link\": \"https://www.nike.com/my/launch/t/terminator-high-black-and-university-red\",\n",
            "      \"Skuid\": \"FN4442-001\",\n",
            "      \"Reference\": \"terminator-high-black-and-university-red\"\n",
            "   },\n",
            "   {\n",
            "      \"Name\": \"Air Huarache Runner\",\n",
            "      \"Date\": \"01/11\",\n",
            "      \"Time\": \"4:00 am\",\n",
            "      \"Time (UTC+8)\": \"12:06 PM\",\n",
            "      \"Link\": \"https://www.nike.com/my/launch/t/air-huarache-runner-burgundy-crush-and-night-maroon\",\n",
            "      \"Skuid\": \"DZ3306-600\",\n",
            "      \"Reference\": \"air-huarache-runner-burgundy-crush-and-night-maroon\"\n",
            "   },\n",
            "   {\n",
            "      \"Name\": \"Terminator High\",\n",
            "      \"Date\": \"01/11\",\n",
            "      \"Time\": \"4:00 am\",\n",
            "      \"Time (UTC+8)\": \"12:06 PM\",\n",
            "      \"Link\": \"https://www.nike.com/my/launch/t/terminator-high-black-forest-and-del-sol\",\n",
            "      \"Skuid\": \"FN4442-300\",\n",
            "      \"Reference\": \"terminator-high-black-forest-and-del-sol\"\n",
            "   },\n",
            "   {\n",
            "      \"Name\": \"Dunk Low Retro Premium\",\n",
            "      \"Date\": \"02/11\",\n",
            "      \"Time\": \"4:00 am\",\n",
            "      \"Time (UTC+8)\": \"12:06 PM\",\n",
            "      \"Link\": \"https://www.nike.com/my/launch/t/dunk-low-retro-premium-burgundy-crush\",\n",
            "      \"Skuid\": \"FB8895-600\",\n",
            "      \"Reference\": \"dunk-low-retro-premium-burgundy-crush\"\n",
            "   },\n",
            "   {\n",
            "      \"Name\": \"Air Jordan 1 High OG\",\n",
            "      \"Date\": \"02/11\",\n",
            "      \"Time\": \"4:00 am\",\n",
            "      \"Time (UTC+8)\": \"12:06 PM\",\n",
            "      \"Link\": \"https://www.nike.com/my/launch/t/air-jordan-1-high-og-mauve\",\n",
            "      \"Skuid\": \"DZ5485-105\",\n",
            "      \"Reference\": \"air-jordan-1-high-og-mauve\"\n",
            "   },\n",
            "   {\n",
            "      \"Name\": \"Air Jordan 1 High OG\",\n",
            "      \"Date\": \"04/11\",\n",
            "      \"Time\": \"2:00 am\",\n",
            "      \"Time (UTC+8)\": \"10:06 AM\",\n",
            "      \"Link\": \"https://www.nike.com/my/launch/t/air-jordan-1-high-og-royal-reimagined\",\n",
            "      \"Skuid\": \"DZ5485-042\",\n",
            "      \"Reference\": \"air-jordan-1-high-og-royal-re-imagined\"\n",
            "   },\n",
            "   {\n",
            "      \"Name\": \"Older Kids' Air Jordan 1 High OG\",\n",
            "      \"Date\": \"04/11\",\n",
            "      \"Time\": \"2:00 am\",\n",
            "      \"Time (UTC+8)\": \"10:06 AM\",\n",
            "      \"Link\": \"https://www.nike.com/my/launch/t/air-jordan-1-high-og-royal-reimagined\",\n",
            "      \"Skuid\": \"DZ5485-042\",\n",
            "      \"Reference\": \"air-jordan-1-high-og-royal-re-imagined\"\n",
            "   },\n",
            "   {\n",
            "      \"Name\": \"Younger Kids' Jordan 1 High OG\",\n",
            "      \"Date\": \"04/11\",\n",
            "      \"Time\": \"2:00 am\",\n",
            "      \"Time (UTC+8)\": \"10:06 AM\",\n",
            "      \"Link\": \"https://www.nike.com/my/launch/t/air-jordan-1-high-og-royal-reimagined\",\n",
            "      \"Skuid\": \"DZ5485-042\",\n",
            "      \"Reference\": \"air-jordan-1-high-og-royal-re-imagined\"\n",
            "   },\n",
            "   {\n",
            "      \"Name\": \"Toddler Jordan 1 High OG\",\n",
            "      \"Date\": \"04/11\",\n",
            "      \"Time\": \"2:00 am\",\n",
            "      \"Time (UTC+8)\": \"10:06 AM\",\n",
            "      \"Link\": \"https://www.nike.com/my/launch/t/air-jordan-1-high-og-royal-reimagined\",\n",
            "      \"Skuid\": \"DZ5485-042\",\n",
            "      \"Reference\": \"air-jordan-1-high-og-royal-re-imagined\"\n",
            "   },\n",
            "   {\n",
            "      \"Name\": \"Women's Vomero 5\",\n",
            "      \"Date\": \"06/11\",\n",
            "      \"Time\": \"4:00 am\",\n",
            "      \"Time (UTC+8)\": \"12:06 PM\",\n",
            "      \"Link\": \"https://www.nike.com/my/launch/t/womens-vomero-5-pink-oxford-and-plum-eclipse\",\n",
            "      \"Skuid\": \"FV1166-200\",\n",
            "      \"Reference\": \"women-s-vomero-5-pink-oxford-and-plum-eclipse\"\n",
            "   }\n",
            "]\n"
          ]
        }
      ]
    },
    {
      "cell_type": "code",
      "source": [
        "x = 0\n",
        "shoes_ref = resultlist[x]['Reference']\n",
        "sizecall = \"https://api.nike.com/product_feed/threads/v3/?filter=marketplace%28MY%29&filter=language%28en-GB%29&filter=channelId%28010794e5-35fe-4e32-aaff-cd2c74f89d61%29&filter=seoSlugs%28\" + shoes_ref + \"%29&filter=exclusiveAccess%28true%2Cfalse%29\""
      ],
      "metadata": {
        "id": "Qhgn7Z09_0kU"
      },
      "execution_count": 8,
      "outputs": []
    },
    {
      "cell_type": "code",
      "source": [
        "sizecall"
      ],
      "metadata": {
        "colab": {
          "base_uri": "https://localhost:8080/",
          "height": 53
        },
        "id": "2yryB2oHIn2A",
        "outputId": "866522d4-1ab8-44df-d67d-52c8942f2e43"
      },
      "execution_count": null,
      "outputs": [
        {
          "output_type": "execute_result",
          "data": {
            "text/plain": [
              "'https://api.nike.com/product_feed/threads/v3/?filter=marketplace%28MY%29&filter=language%28en-GB%29&filter=channelId%28010794e5-35fe-4e32-aaff-cd2c74f89d61%29&filter=seoSlugs%28sb-dunk-low-pro-black-and-gum%29&filter=exclusiveAccess%28true%2Cfalse%29'"
            ],
            "application/vnd.google.colaboratory.intrinsic+json": {
              "type": "string"
            }
          },
          "metadata": {},
          "execution_count": 18
        }
      ]
    },
    {
      "cell_type": "code",
      "source": [
        "stocklevelurl = requests.get(sizecall, headers=headers)"
      ],
      "metadata": {
        "id": "ncolbc8kIoyr"
      },
      "execution_count": 10,
      "outputs": []
    },
    {
      "cell_type": "code",
      "source": [
        "stocklevelsoup = BeautifulSoup(stocklevelurl.content, 'html.parser')"
      ],
      "metadata": {
        "id": "46nhBEUTJALD"
      },
      "execution_count": null,
      "outputs": []
    },
    {
      "cell_type": "code",
      "source": [
        "with open('output.json', 'w') as json_file:\n",
        "\n",
        "  json.dump(stocklevelurl.json(), json_file)"
      ],
      "metadata": {
        "id": "cMWUZxO9JPAF"
      },
      "execution_count": null,
      "outputs": []
    },
    {
      "cell_type": "code",
      "source": [
        "def find_key(json_data, target_key, current_path=None):\n",
        "    if current_path is None:\n",
        "        current_path = []\n",
        "\n",
        "    if isinstance(json_data, dict):\n",
        "        for key, value in json_data.items():\n",
        "            new_path = current_path + [key]\n",
        "            if key == target_key:\n",
        "                print(f\"Found {target_key} {value} at path: {'.'.join(new_path)}\")\n",
        "            find_key(value, target_key, new_path)\n",
        "    elif isinstance(json_data, list):\n",
        "        for index, item in enumerate(json_data):\n",
        "            new_path = current_path + [str(index)]\n",
        "            find_key(item, target_key, new_path)\n"
      ],
      "metadata": {
        "id": "sxJuFKKQJdNU"
      },
      "execution_count": null,
      "outputs": []
    },
    {
      "cell_type": "code",
      "source": [
        "productsizejson = stocklevelurl.json()"
      ],
      "metadata": {
        "id": "7I6zL-mYgCge"
      },
      "execution_count": 11,
      "outputs": []
    },
    {
      "cell_type": "code",
      "source": [
        "find_key(productsizejson, 'gtin')"
      ],
      "metadata": {
        "colab": {
          "base_uri": "https://localhost:8080/"
        },
        "id": "kQtEgwJSjFtY",
        "outputId": "281c230e-ad78-40da-80a7-5bae2f916eff"
      },
      "execution_count": null,
      "outputs": [
        {
          "output_type": "stream",
          "name": "stdout",
          "text": [
            "Found gtin 00196969080570 at path: objects.0.productInfo.0.skus.0.gtin\n",
            "Found gtin 00196969080587 at path: objects.0.productInfo.0.skus.1.gtin\n",
            "Found gtin 00196969080594 at path: objects.0.productInfo.0.skus.2.gtin\n",
            "Found gtin 00196969080600 at path: objects.0.productInfo.0.skus.3.gtin\n",
            "Found gtin 00196969080617 at path: objects.0.productInfo.0.skus.4.gtin\n",
            "Found gtin 00196969080624 at path: objects.0.productInfo.0.skus.5.gtin\n",
            "Found gtin 00196969080631 at path: objects.0.productInfo.0.skus.6.gtin\n",
            "Found gtin 00196969080648 at path: objects.0.productInfo.0.skus.7.gtin\n",
            "Found gtin 00196969080655 at path: objects.0.productInfo.0.skus.8.gtin\n",
            "Found gtin 00196969080662 at path: objects.0.productInfo.0.skus.9.gtin\n",
            "Found gtin 00196969080679 at path: objects.0.productInfo.0.skus.10.gtin\n",
            "Found gtin 00196969080693 at path: objects.0.productInfo.0.skus.11.gtin\n",
            "Found gtin 00196969080570 at path: objects.0.productInfo.0.availableGtins.0.gtin\n",
            "Found gtin 00196969080587 at path: objects.0.productInfo.0.availableGtins.1.gtin\n",
            "Found gtin 00196969080594 at path: objects.0.productInfo.0.availableGtins.2.gtin\n",
            "Found gtin 00196969080600 at path: objects.0.productInfo.0.availableGtins.3.gtin\n",
            "Found gtin 00196969080617 at path: objects.0.productInfo.0.availableGtins.4.gtin\n",
            "Found gtin 00196969080624 at path: objects.0.productInfo.0.availableGtins.5.gtin\n",
            "Found gtin 00196969080631 at path: objects.0.productInfo.0.availableGtins.6.gtin\n",
            "Found gtin 00196969080648 at path: objects.0.productInfo.0.availableGtins.7.gtin\n",
            "Found gtin 00196969080655 at path: objects.0.productInfo.0.availableGtins.8.gtin\n",
            "Found gtin 00196969080662 at path: objects.0.productInfo.0.availableGtins.9.gtin\n",
            "Found gtin 00196969080679 at path: objects.0.productInfo.0.availableGtins.10.gtin\n",
            "Found gtin 00196969080693 at path: objects.0.productInfo.0.availableGtins.11.gtin\n"
          ]
        }
      ]
    },
    {
      "cell_type": "code",
      "source": [
        "data = productsizejson\n",
        "\n",
        "skus_data = [\n",
        "    {\"nikeSize\": sku[\"nikeSize\"],\n",
        "     \"gtin\": sku[\"gtin\"]\n",
        "     }\n",
        "    for product_info in data[\"objects\"][0][\"productInfo\"]\n",
        "    for sku in product_info.get(\"skus\", [])\n",
        "]\n",
        "\n",
        "# Extract \"gtin\" and \"level\" from \"availableGtins\"\n",
        "available_gtins_data = [\n",
        "    {\"gtin\": gtin[\"gtin\"], \"level\": gtin[\"level\"]}\n",
        "    for product_info in data[\"objects\"][0][\"productInfo\"]\n",
        "    for gtin in product_info.get(\"availableGtins\", [])\n",
        "]\n",
        "\n",
        "# Combine the information\n",
        "combined_data = [\n",
        "    {\n",
        "        \"gtin\": sku[\"gtin\"],\n",
        "        \"nikeSize\": sku[\"nikeSize\"],\n",
        "        \"level\": gtin[\"level\"]\n",
        "        }\n",
        "    for sku in skus_data\n",
        "    for gtin in available_gtins_data\n",
        "    if sku[\"gtin\"] == gtin[\"gtin\"]\n",
        "]\n",
        "test = {\n",
        "    \"productname\" : shoes_ref,\n",
        "    \"size\" : combined_data }\n",
        "\n",
        "\n",
        "# Print the final result\n",
        "print(json.dumps(test, indent=2))"
      ],
      "metadata": {
        "colab": {
          "base_uri": "https://localhost:8080/"
        },
        "id": "eoq_UHvTmNtM",
        "outputId": "aafed966-a0bf-4a72-c0a6-d2892a633461"
      },
      "execution_count": 48,
      "outputs": [
        {
          "output_type": "stream",
          "name": "stdout",
          "text": [
            "{\n",
            "  \"productname\": \"air-jordan-13-wheat\",\n",
            "  \"size\": [\n",
            "    {\n",
            "      \"gtin\": \"00196969165833\",\n",
            "      \"nikeSize\": \"8\",\n",
            "      \"level\": \"LOW\"\n",
            "    },\n",
            "    {\n",
            "      \"gtin\": \"00196969165840\",\n",
            "      \"nikeSize\": \"8.5\",\n",
            "      \"level\": \"LOW\"\n",
            "    },\n",
            "    {\n",
            "      \"gtin\": \"00196969165857\",\n",
            "      \"nikeSize\": \"9\",\n",
            "      \"level\": \"LOW\"\n",
            "    },\n",
            "    {\n",
            "      \"gtin\": \"00196969165864\",\n",
            "      \"nikeSize\": \"9.5\",\n",
            "      \"level\": \"LOW\"\n",
            "    },\n",
            "    {\n",
            "      \"gtin\": \"00196969165871\",\n",
            "      \"nikeSize\": \"10\",\n",
            "      \"level\": \"LOW\"\n",
            "    },\n",
            "    {\n",
            "      \"gtin\": \"00196969165888\",\n",
            "      \"nikeSize\": \"10.5\",\n",
            "      \"level\": \"LOW\"\n",
            "    },\n",
            "    {\n",
            "      \"gtin\": \"00196969165895\",\n",
            "      \"nikeSize\": \"11\",\n",
            "      \"level\": \"LOW\"\n",
            "    },\n",
            "    {\n",
            "      \"gtin\": \"00196969165918\",\n",
            "      \"nikeSize\": \"12\",\n",
            "      \"level\": \"LOW\"\n",
            "    },\n",
            "    {\n",
            "      \"gtin\": \"00196969165932\",\n",
            "      \"nikeSize\": \"13\",\n",
            "      \"level\": \"LOW\"\n",
            "    }\n",
            "  ]\n",
            "}\n"
          ]
        }
      ]
    },
    {
      "cell_type": "code",
      "source": [],
      "metadata": {
        "colab": {
          "base_uri": "https://localhost:8080/"
        },
        "id": "JYvMPk-cjJ4d",
        "outputId": "7e0373e7-f4df-402d-b4e6-bc7a33b1fc38"
      },
      "execution_count": 46,
      "outputs": [
        {
          "output_type": "stream",
          "name": "stdout",
          "text": [
            "00196969165833 8\n",
            "00196969165840 8.5\n",
            "00196969165857 9\n",
            "00196969165864 9.5\n",
            "00196969165871 10\n",
            "00196969165888 10.5\n",
            "00196969165895 11\n",
            "00196969165918 12\n",
            "00196969165932 13\n"
          ]
        }
      ]
    },
    {
      "cell_type": "code",
      "source": [],
      "metadata": {
        "id": "O_gH1PBsmAQt"
      },
      "execution_count": null,
      "outputs": []
    },
    {
      "cell_type": "markdown",
      "source": [
        "# **Production**"
      ],
      "metadata": {
        "id": "oOVKv5ymsvfy"
      }
    },
    {
      "cell_type": "code",
      "source": [
        "import requests\n",
        "from bs4 import BeautifulSoup\n",
        "import json\n",
        "from datetime import datetime, timedelta\n",
        "import pytz\n",
        "import json\n",
        "import re\n",
        "\n",
        "url = \"https://www.nike.com/my/launch?s=upcoming\"\n",
        "headers = {\"User-Agent\" : \"Mozilla/5.0 (Windows NT 10.0; Win64; x64) AppleWebKit/537.36 (KHTML, like Gecko) Chrome/118.0.0.0 Safari/537.36\"}\n",
        "\n",
        "itemlist = []\n",
        "shoe_size = []\n",
        "\n",
        "\n",
        "\n",
        "\n",
        "def scrap():\n",
        "  response = requests.get(url,headers=headers)\n",
        "  soup = BeautifulSoup(response.content, 'html.parser')\n",
        "\n",
        "  details = soup.find_all(\"a\", class_='ncss-col-sm-8 launch-details u-full-height va-sm-t full')\n",
        "\n",
        "  skuraw = soup.find_all('img', class_='image-component')\n",
        "\n",
        "  for item, sku in zip(details, skuraw) :\n",
        "    link = 'https://www.nike.com'+ item['href']\n",
        "    name = item.h3.text.strip()\n",
        "    date = item.find('div', class_='available-date-component').text.strip()\n",
        "\n",
        "    date_match = re.search(r'(\\d{1,2}/\\d{1,2})', date)\n",
        "    time_match = re.search(r'(\\d{1,2}:\\d{2} [APMapm]{2})', date)\n",
        "    sku_pattern = r'/([a-zA-Z0-9-]+)-release-date\\.jpg$'\n",
        "\n",
        "    skuid = sku['src']\n",
        "    match = re.search(sku_pattern, skuid)\n",
        "    if match:\n",
        "      sku_id = match.group(1)\n",
        "      ref = sku_id[:-11]\n",
        "\n",
        "      if date_match and time_match:\n",
        "          date = date_match.group(1)\n",
        "          time = time_match.group(1)\n",
        "\n",
        "          # Convert the time to UTC+8\n",
        "          datetime_str = f\"{date} {time}\"\n",
        "          datetime_obj = datetime.strptime(datetime_str, \"%d/%m %I:%M %p\")\n",
        "\n",
        "          # Assuming UTC is the original timezone of your input\n",
        "          utc_time = datetime_obj.replace(tzinfo=pytz.utc)\n",
        "          utc_plus_8_time = utc_time.astimezone(pytz.timezone(\"Asia/Shanghai\"))\n",
        "\n",
        "          result = {\n",
        "              \"Name\": name,\n",
        "              \"Date\": date,\n",
        "              \"Time\": time,\n",
        "              \"Time (UTC+8)\": utc_plus_8_time.strftime(\"%H:%M %p\"),\n",
        "              'Link': link,\n",
        "              'Skuid' : (sku_id[-10:]).upper(),\n",
        "              'Reference' : ref\n",
        "          }\n",
        "\n",
        "          itemlist.append(result)\n",
        "\n",
        "def sizeapi(shoes_ref):\n",
        "  sizecall = \"https://api.nike.com/product_feed/threads/v3/?filter=marketplace%28MY%29&filter=language%28en-GB%29&filter=channelId%28010794e5-35fe-4e32-aaff-cd2c74f89d61%29&filter=seoSlugs%28\" + shoes_ref + \"%29&filter=exclusiveAccess%28true%2Cfalse%29\"\n",
        "  stocklevelurl = requests.get(sizecall, headers=headers)\n",
        "\n",
        "  data = stocklevelurl.json()\n",
        "\n",
        "  skus_data = [\n",
        "    {\"nikeSize\": sku[\"nikeSize\"],\"gtin\": sku[\"gtin\"]}\n",
        "    for product_info in data[\"objects\"][0][\"productInfo\"]\n",
        "    for sku in product_info.get(\"skus\", [])\n",
        "  ]\n",
        "\n",
        "  # Extract \"gtin\" and \"level\" from \"availableGtins\"\n",
        "  available_gtins_data = [\n",
        "    {\"gtin\": gtin[\"gtin\"], \"level\": gtin[\"level\"]}\n",
        "    for product_info in data[\"objects\"][0][\"productInfo\"]\n",
        "    for gtin in product_info.get(\"availableGtins\", [])\n",
        "  ]\n",
        "\n",
        "    # Combine the information\n",
        "  combined_data = [\n",
        "      {\n",
        "        \"gtin\": sku[\"gtin\"],\n",
        "        \"nikeSize\": sku[\"nikeSize\"],\n",
        "        \"level\": gtin[\"level\"]\n",
        "        }\n",
        "    for sku in skus_data\n",
        "    for gtin in available_gtins_data\n",
        "    if sku[\"gtin\"] == gtin[\"gtin\"]\n",
        "  ]\n",
        "\n",
        "  parseData = {\n",
        "    \"productname\" : shoes_ref,\n",
        "    \"size\" : combined_data }\n",
        "\n",
        "  # Convert combined_data dictionary outside list\n",
        "  shoe_size.append(parseData)\n",
        "\n",
        "if __name__ == \"__main__\":\n",
        "  print('test')\n",
        "\n",
        "\n"
      ],
      "metadata": {
        "colab": {
          "base_uri": "https://localhost:8080/"
        },
        "id": "ovW6kW1ks2AK",
        "outputId": "c216047c-e759-460c-d560-4568984aa1ca"
      },
      "execution_count": 51,
      "outputs": [
        {
          "output_type": "stream",
          "name": "stdout",
          "text": [
            "test\n"
          ]
        }
      ]
    },
    {
      "cell_type": "code",
      "source": [],
      "metadata": {
        "id": "BxSQiUWNss6K"
      },
      "execution_count": null,
      "outputs": []
    }
  ]
}