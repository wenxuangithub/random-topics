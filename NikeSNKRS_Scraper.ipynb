{
  "nbformat": 4,
  "nbformat_minor": 0,
  "metadata": {
    "colab": {
      "provenance": [],
      "authorship_tag": "ABX9TyMX0EPE2dqvUaiz2SIlb5Mj"
    },
    "kernelspec": {
      "name": "python3",
      "display_name": "Python 3"
    },
    "language_info": {
      "name": "python"
    }
  },
  "cells": [
    {
      "cell_type": "code",
      "execution_count": 1,
      "metadata": {
        "id": "3YfBS1uZIgWG"
      },
      "outputs": [],
      "source": [
        "import requests\n",
        "from bs4 import BeautifulSoup"
      ]
    },
    {
      "cell_type": "code",
      "source": [
        "url = \"https://www.nike.com/launch?s=upcoming\"\n",
        "headers = {\"User-Agent\" : \"Mozilla/5.0 (Windows NT 10.0; Win64; x64) AppleWebKit/537.36 (KHTML, like Gecko) Chrome/118.0.0.0 Safari/537.36\"}"
      ],
      "metadata": {
        "id": "8EYJBdJLJCru"
      },
      "execution_count": 2,
      "outputs": []
    },
    {
      "cell_type": "code",
      "source": [
        "response = requests.get(url, headers=headers)"
      ],
      "metadata": {
        "id": "bWDgIhyFJSI6"
      },
      "execution_count": 3,
      "outputs": []
    },
    {
      "cell_type": "code",
      "source": [
        "soup = BeautifulSoup(response.content, 'html.parser')"
      ],
      "metadata": {
        "id": "rXvt9JWqJZEi"
      },
      "execution_count": 7,
      "outputs": []
    },
    {
      "cell_type": "code",
      "source": [
        "soup.find_all('div', class_='available-date-component')"
      ],
      "metadata": {
        "colab": {
          "base_uri": "https://localhost:8080/"
        },
        "id": "vV1ZyazCJXmK",
        "outputId": "2517ce3a-1d58-4767-ddcd-aadb85ad0354"
      },
      "execution_count": 10,
      "outputs": [
        {
          "output_type": "execute_result",
          "data": {
            "text/plain": [
              "[<div class=\"available-date-component\">Available 10/24 at 2:00 PM</div>,\n",
              " <div class=\"available-date-component\">Available 10/24 at 2:00 PM</div>,\n",
              " <div class=\"available-date-component\">Available 10/27 at 2:00 PM</div>,\n",
              " <div class=\"available-date-component\">Available 10/27 at 2:00 PM</div>,\n",
              " <div class=\"available-date-component\">Available 10/27 at 2:00 PM</div>,\n",
              " <div class=\"available-date-component\">Available 10/27 at 2:00 PM</div>,\n",
              " <div class=\"available-date-component\">Available 10/28 at 2:00 PM</div>,\n",
              " <div class=\"available-date-component\">Available 10/28 at 2:00 PM</div>,\n",
              " <div class=\"available-date-component\">Available 10/28 at 2:00 PM</div>,\n",
              " <div class=\"available-date-component\">Available 10/28 at 2:00 PM</div>,\n",
              " <div class=\"available-date-component\">Available 10/31 at 2:00 PM</div>,\n",
              " <div class=\"available-date-component\">Available 11/3 at 2:00 PM</div>,\n",
              " <div class=\"available-date-component\">Available 11/4 at 2:00 PM</div>,\n",
              " <div class=\"available-date-component\">Available 11/4 at 2:00 PM</div>,\n",
              " <div class=\"available-date-component\">Available 11/4 at 2:00 PM</div>,\n",
              " <div class=\"available-date-component\">Available 11/4 at 2:00 PM</div>,\n",
              " <div class=\"available-date-component\">Available 11/4 at 2:00 PM</div>]"
            ]
          },
          "metadata": {},
          "execution_count": 10
        }
      ]
    },
    {
      "cell_type": "code",
      "source": [
        "soup.find_all('h3', class_='headline-5')"
      ],
      "metadata": {
        "colab": {
          "base_uri": "https://localhost:8080/"
        },
        "id": "U4lhLKBqKVex",
        "outputId": "5bfa25b8-420e-446e-d9f7-ca0896f287f2"
      },
      "execution_count": 15,
      "outputs": [
        {
          "output_type": "execute_result",
          "data": {
            "text/plain": [
              "[<h3 class=\"headline-5 mb1-sm fs16-sm\"> <!-- -->Women's Cortez</h3>,\n",
              " <h3 class=\"headline-5 mb1-sm fs16-sm\"> <!-- -->Air Jordan 1 Low x Chris Paul</h3>,\n",
              " <h3 class=\"headline-5 mb1-sm fs16-sm\"> <!-- -->Dunk Low</h3>,\n",
              " <h3 class=\"headline-5 mb1-sm fs16-sm\"> <!-- -->Air Humara</h3>,\n",
              " <h3 class=\"headline-5 mb1-sm fs16-sm\"> <!-- -->Zoom KD 3</h3>,\n",
              " <h3 class=\"headline-5 mb1-sm fs16-sm\"> <!-- -->Attack x Social Status</h3>,\n",
              " <h3 class=\"headline-5 mb1-sm fs16-sm\"> <!-- -->Air Jordan 12</h3>,\n",
              " <h3 class=\"headline-5 mb1-sm fs16-sm\"> <!-- -->Big Kids’ Air Jordan 12</h3>,\n",
              " <h3 class=\"headline-5 mb1-sm fs16-sm\"> <!-- -->Toddler Jordan 12</h3>,\n",
              " <h3 class=\"headline-5 mb1-sm fs16-sm\"> <!-- -->Little Kids’ Jordan 12</h3>,\n",
              " <h3 class=\"headline-5 mb1-sm fs16-sm\"> <!-- -->Air VaporMax Moc Roam</h3>,\n",
              " <h3 class=\"headline-5 mb1-sm fs16-sm\"> <!-- -->SB Dunk Low Pro</h3>,\n",
              " <h3 class=\"headline-5 mb1-sm fs16-sm\"> <!-- -->Infants' Jordan 1</h3>,\n",
              " <h3 class=\"headline-5 mb1-sm fs16-sm\"> <!-- -->Big Kids' Air Jordan 1</h3>,\n",
              " <h3 class=\"headline-5 mb1-sm fs16-sm\"> <!-- -->Air Jordan 1</h3>,\n",
              " <h3 class=\"headline-5 mb1-sm fs16-sm\"> <!-- -->Little Kids' Jordan 1</h3>,\n",
              " <h3 class=\"headline-5 mb1-sm fs16-sm\"> <!-- -->Toddler Jordan 1</h3>]"
            ]
          },
          "metadata": {},
          "execution_count": 15
        }
      ]
    },
    {
      "cell_type": "code",
      "source": [
        "soup.find_all('div', class_='d-sm-tc va-sm-m')"
      ],
      "metadata": {
        "colab": {
          "base_uri": "https://localhost:8080/"
        },
        "id": "pBwjrVYbKurK",
        "outputId": "caace097-bbd1-4b5e-f07c-eba860d98e52"
      },
      "execution_count": 16,
      "outputs": [
        {
          "output_type": "execute_result",
          "data": {
            "text/plain": [
              "[<div class=\"d-sm-tc va-sm-m\"><h3 class=\"headline-5 mb1-sm fs16-sm\"> <!-- -->Women's Cortez</h3><h6 class=\"text-color-secondary mb-1-sm body-3\"><div class=\"available-date-component\">Available 10/24 at 2:00 PM</div></h6></div>,\n",
              " <div class=\"d-sm-tc va-sm-m\"><h3 class=\"headline-5 mb1-sm fs16-sm\"> <!-- -->Air Jordan 1 Low x Chris Paul</h3><h6 class=\"text-color-secondary mb-1-sm body-3\"><div class=\"available-date-component\">Available 10/24 at 2:00 PM</div></h6></div>,\n",
              " <div class=\"d-sm-tc va-sm-m\"><h3 class=\"headline-5 mb1-sm fs16-sm\"> <!-- -->Dunk Low</h3><h6 class=\"text-color-secondary mb-1-sm body-3\"><div class=\"available-date-component\">Available 10/27 at 2:00 PM</div></h6></div>,\n",
              " <div class=\"d-sm-tc va-sm-m\"><h3 class=\"headline-5 mb1-sm fs16-sm\"> <!-- -->Air Humara</h3><h6 class=\"text-color-secondary mb-1-sm body-3\"><div class=\"available-date-component\">Available 10/27 at 2:00 PM</div></h6></div>,\n",
              " <div class=\"d-sm-tc va-sm-m\"><h3 class=\"headline-5 mb1-sm fs16-sm\"> <!-- -->Zoom KD 3</h3><h6 class=\"text-color-secondary mb-1-sm body-3\"><div class=\"available-date-component\">Available 10/27 at 2:00 PM</div></h6></div>,\n",
              " <div class=\"d-sm-tc va-sm-m\"><h3 class=\"headline-5 mb1-sm fs16-sm\"> <!-- -->Attack x Social Status</h3><h6 class=\"text-color-secondary mb-1-sm body-3\"><div class=\"available-date-component\">Available 10/27 at 2:00 PM</div></h6></div>,\n",
              " <div class=\"d-sm-tc va-sm-m\"><h3 class=\"headline-5 mb1-sm fs16-sm\"> <!-- -->Air Jordan 12</h3><h6 class=\"text-color-secondary mb-1-sm body-3\"><div class=\"available-date-component\">Available 10/28 at 2:00 PM</div></h6></div>,\n",
              " <div class=\"d-sm-tc va-sm-m\"><h3 class=\"headline-5 mb1-sm fs16-sm\"> <!-- -->Big Kids’ Air Jordan 12</h3><h6 class=\"text-color-secondary mb-1-sm body-3\"><div class=\"available-date-component\">Available 10/28 at 2:00 PM</div></h6></div>,\n",
              " <div class=\"d-sm-tc va-sm-m\"><h3 class=\"headline-5 mb1-sm fs16-sm\"> <!-- -->Toddler Jordan 12</h3><h6 class=\"text-color-secondary mb-1-sm body-3\"><div class=\"available-date-component\">Available 10/28 at 2:00 PM</div></h6></div>,\n",
              " <div class=\"d-sm-tc va-sm-m\"><h3 class=\"headline-5 mb1-sm fs16-sm\"> <!-- -->Little Kids’ Jordan 12</h3><h6 class=\"text-color-secondary mb-1-sm body-3\"><div class=\"available-date-component\">Available 10/28 at 2:00 PM</div></h6></div>,\n",
              " <div class=\"d-sm-tc va-sm-m\"><h3 class=\"headline-5 mb1-sm fs16-sm\"> <!-- -->Air VaporMax Moc Roam</h3><h6 class=\"text-color-secondary mb-1-sm body-3\"><div class=\"available-date-component\">Available 10/31 at 2:00 PM</div></h6></div>,\n",
              " <div class=\"d-sm-tc va-sm-m\"><h3 class=\"headline-5 mb1-sm fs16-sm\"> <!-- -->SB Dunk Low Pro</h3><h6 class=\"text-color-secondary mb-1-sm body-3\"><div class=\"available-date-component\">Available 11/3 at 2:00 PM</div></h6></div>,\n",
              " <div class=\"d-sm-tc va-sm-m\"><h3 class=\"headline-5 mb1-sm fs16-sm\"> <!-- -->Infants' Jordan 1</h3><h6 class=\"text-color-secondary mb-1-sm body-3\"><div class=\"available-date-component\">Available 11/4 at 2:00 PM</div></h6></div>,\n",
              " <div class=\"d-sm-tc va-sm-m\"><h3 class=\"headline-5 mb1-sm fs16-sm\"> <!-- -->Big Kids' Air Jordan 1</h3><h6 class=\"text-color-secondary mb-1-sm body-3\"><div class=\"available-date-component\">Available 11/4 at 2:00 PM</div></h6></div>,\n",
              " <div class=\"d-sm-tc va-sm-m\"><h3 class=\"headline-5 mb1-sm fs16-sm\"> <!-- -->Air Jordan 1</h3><h6 class=\"text-color-secondary mb-1-sm body-3\"><div class=\"available-date-component\">Available 11/4 at 2:00 PM</div></h6></div>,\n",
              " <div class=\"d-sm-tc va-sm-m\"><h3 class=\"headline-5 mb1-sm fs16-sm\"> <!-- -->Little Kids' Jordan 1</h3><h6 class=\"text-color-secondary mb-1-sm body-3\"><div class=\"available-date-component\">Available 11/4 at 2:00 PM</div></h6></div>,\n",
              " <div class=\"d-sm-tc va-sm-m\"><h3 class=\"headline-5 mb1-sm fs16-sm\"> <!-- -->Toddler Jordan 1</h3><h6 class=\"text-color-secondary mb-1-sm body-3\"><div class=\"available-date-component\">Available 11/4 at 2:00 PM</div></h6></div>]"
            ]
          },
          "metadata": {},
          "execution_count": 16
        }
      ]
    },
    {
      "cell_type": "code",
      "source": [
        "resultlist = []\n",
        "\n",
        "for item in soup.find_all('div', class_=\"d-sm-tc va-sm-m\"):\n",
        "  name = item.h3.text.strip()\n",
        "  date = item.find('div', class_='available-date-component').text.strip()\n",
        "\n",
        "  result = {\n",
        "      \"Name\" : name,\n",
        "      \"Date\" : date\n",
        "  }\n",
        "\n",
        "  resultlist.append(result)"
      ],
      "metadata": {
        "id": "aqOQEdQDLCRK"
      },
      "execution_count": 19,
      "outputs": []
    },
    {
      "cell_type": "code",
      "source": [
        "resultlist"
      ],
      "metadata": {
        "colab": {
          "base_uri": "https://localhost:8080/"
        },
        "id": "nRfDCkurMpET",
        "outputId": "1c0be6ea-54e0-4d0a-943a-e9ce15c6a830"
      },
      "execution_count": 20,
      "outputs": [
        {
          "output_type": "execute_result",
          "data": {
            "text/plain": [
              "[{'Name': \"Women's Cortez\", 'Date': 'Available 10/24 at 2:00 PM'},\n",
              " {'Name': 'Air Jordan 1 Low x Chris Paul',\n",
              "  'Date': 'Available 10/24 at 2:00 PM'},\n",
              " {'Name': 'Dunk Low', 'Date': 'Available 10/27 at 2:00 PM'},\n",
              " {'Name': 'Air Humara', 'Date': 'Available 10/27 at 2:00 PM'},\n",
              " {'Name': 'Zoom KD 3', 'Date': 'Available 10/27 at 2:00 PM'},\n",
              " {'Name': 'Attack x Social Status', 'Date': 'Available 10/27 at 2:00 PM'},\n",
              " {'Name': 'Air Jordan 12', 'Date': 'Available 10/28 at 2:00 PM'},\n",
              " {'Name': 'Big Kids’ Air Jordan 12', 'Date': 'Available 10/28 at 2:00 PM'},\n",
              " {'Name': 'Toddler Jordan 12', 'Date': 'Available 10/28 at 2:00 PM'},\n",
              " {'Name': 'Little Kids’ Jordan 12', 'Date': 'Available 10/28 at 2:00 PM'},\n",
              " {'Name': 'Air VaporMax Moc Roam', 'Date': 'Available 10/31 at 2:00 PM'},\n",
              " {'Name': 'SB Dunk Low Pro', 'Date': 'Available 11/3 at 2:00 PM'},\n",
              " {'Name': \"Infants' Jordan 1\", 'Date': 'Available 11/4 at 2:00 PM'},\n",
              " {'Name': \"Big Kids' Air Jordan 1\", 'Date': 'Available 11/4 at 2:00 PM'},\n",
              " {'Name': 'Air Jordan 1', 'Date': 'Available 11/4 at 2:00 PM'},\n",
              " {'Name': \"Little Kids' Jordan 1\", 'Date': 'Available 11/4 at 2:00 PM'},\n",
              " {'Name': 'Toddler Jordan 1', 'Date': 'Available 11/4 at 2:00 PM'}]"
            ]
          },
          "metadata": {},
          "execution_count": 20
        }
      ]
    },
    {
      "cell_type": "code",
      "source": [
        "import json"
      ],
      "metadata": {
        "id": "knP8SjCKMtzb"
      },
      "execution_count": 22,
      "outputs": []
    },
    {
      "cell_type": "code",
      "source": [
        "json_result = json.dumps(resultlist, indent=3)\n",
        "print(json_result)"
      ],
      "metadata": {
        "colab": {
          "base_uri": "https://localhost:8080/"
        },
        "id": "IJ4KqlI0NNM7",
        "outputId": "8d1f5072-0d53-4b6c-86c6-9ff28a442bd8"
      },
      "execution_count": 28,
      "outputs": [
        {
          "output_type": "stream",
          "name": "stdout",
          "text": [
            "[\n",
            "   {\n",
            "      \"Name\": \"Women's Cortez\",\n",
            "      \"Date\": \"Available 10/24 at 2:00 PM\"\n",
            "   },\n",
            "   {\n",
            "      \"Name\": \"Air Jordan 1 Low x Chris Paul\",\n",
            "      \"Date\": \"Available 10/24 at 2:00 PM\"\n",
            "   },\n",
            "   {\n",
            "      \"Name\": \"Dunk Low\",\n",
            "      \"Date\": \"Available 10/27 at 2:00 PM\"\n",
            "   },\n",
            "   {\n",
            "      \"Name\": \"Air Humara\",\n",
            "      \"Date\": \"Available 10/27 at 2:00 PM\"\n",
            "   },\n",
            "   {\n",
            "      \"Name\": \"Zoom KD 3\",\n",
            "      \"Date\": \"Available 10/27 at 2:00 PM\"\n",
            "   },\n",
            "   {\n",
            "      \"Name\": \"Attack x Social Status\",\n",
            "      \"Date\": \"Available 10/27 at 2:00 PM\"\n",
            "   },\n",
            "   {\n",
            "      \"Name\": \"Air Jordan 12\",\n",
            "      \"Date\": \"Available 10/28 at 2:00 PM\"\n",
            "   },\n",
            "   {\n",
            "      \"Name\": \"Big Kids\\u2019 Air Jordan 12\",\n",
            "      \"Date\": \"Available 10/28 at 2:00 PM\"\n",
            "   },\n",
            "   {\n",
            "      \"Name\": \"Toddler Jordan 12\",\n",
            "      \"Date\": \"Available 10/28 at 2:00 PM\"\n",
            "   },\n",
            "   {\n",
            "      \"Name\": \"Little Kids\\u2019 Jordan 12\",\n",
            "      \"Date\": \"Available 10/28 at 2:00 PM\"\n",
            "   },\n",
            "   {\n",
            "      \"Name\": \"Air VaporMax Moc Roam\",\n",
            "      \"Date\": \"Available 10/31 at 2:00 PM\"\n",
            "   },\n",
            "   {\n",
            "      \"Name\": \"SB Dunk Low Pro\",\n",
            "      \"Date\": \"Available 11/3 at 2:00 PM\"\n",
            "   },\n",
            "   {\n",
            "      \"Name\": \"Infants' Jordan 1\",\n",
            "      \"Date\": \"Available 11/4 at 2:00 PM\"\n",
            "   },\n",
            "   {\n",
            "      \"Name\": \"Big Kids' Air Jordan 1\",\n",
            "      \"Date\": \"Available 11/4 at 2:00 PM\"\n",
            "   },\n",
            "   {\n",
            "      \"Name\": \"Air Jordan 1\",\n",
            "      \"Date\": \"Available 11/4 at 2:00 PM\"\n",
            "   },\n",
            "   {\n",
            "      \"Name\": \"Little Kids' Jordan 1\",\n",
            "      \"Date\": \"Available 11/4 at 2:00 PM\"\n",
            "   },\n",
            "   {\n",
            "      \"Name\": \"Toddler Jordan 1\",\n",
            "      \"Date\": \"Available 11/4 at 2:00 PM\"\n",
            "   }\n",
            "]\n"
          ]
        }
      ]
    },
    {
      "cell_type": "code",
      "source": [
        "date_match = re.search(r'()')"
      ],
      "metadata": {
        "id": "g9JygTAQNQH6"
      },
      "execution_count": null,
      "outputs": []
    }
  ]
}