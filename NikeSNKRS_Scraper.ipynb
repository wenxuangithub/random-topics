{
  "nbformat": 4,
  "nbformat_minor": 0,
  "metadata": {
    "colab": {
      "provenance": [],
      "authorship_tag": "ABX9TyNouswI9OgwsBFg/jinoAqV"
    },
    "kernelspec": {
      "name": "python3",
      "display_name": "Python 3"
    },
    "language_info": {
      "name": "python"
    }
  },
  "cells": [
    {
      "cell_type": "code",
      "execution_count": 1,
      "metadata": {
        "id": "3YfBS1uZIgWG"
      },
      "outputs": [],
      "source": [
        "import requests\n",
        "from bs4 import BeautifulSoup"
      ]
    },
    {
      "cell_type": "code",
      "source": [
        "url = \"https://www.nike.com/my/launch?s=upcoming\"\n",
        "headers = {\"User-Agent\" : \"Mozilla/5.0 (Windows NT 10.0; Win64; x64) AppleWebKit/537.36 (KHTML, like Gecko) Chrome/118.0.0.0 Safari/537.36\"}"
      ],
      "metadata": {
        "id": "8EYJBdJLJCru"
      },
      "execution_count": 2,
      "outputs": []
    },
    {
      "cell_type": "code",
      "source": [
        "response = requests.get(url, headers=headers)"
      ],
      "metadata": {
        "id": "bWDgIhyFJSI6"
      },
      "execution_count": 3,
      "outputs": []
    },
    {
      "cell_type": "code",
      "source": [
        "soup = BeautifulSoup(response.content, 'html.parser')"
      ],
      "metadata": {
        "id": "rXvt9JWqJZEi"
      },
      "execution_count": 4,
      "outputs": []
    },
    {
      "cell_type": "code",
      "source": [
        "soup.find_all('div', class_='available-date-component')"
      ],
      "metadata": {
        "colab": {
          "base_uri": "https://localhost:8080/"
        },
        "id": "vV1ZyazCJXmK",
        "outputId": "0afa98a1-8d3f-4215-b148-3934aa9399ac"
      },
      "execution_count": 5,
      "outputs": [
        {
          "output_type": "execute_result",
          "data": {
            "text/plain": [
              "[<div class=\"available-date-component\">Available 24/10 at 4:00 am</div>,\n",
              " <div class=\"available-date-component\">Available 24/10 at 4:00 am</div>,\n",
              " <div class=\"available-date-component\">Available 25/10 at 4:00 am</div>,\n",
              " <div class=\"available-date-component\">Available 25/10 at 4:00 am</div>,\n",
              " <div class=\"available-date-component\">Available 27/10 at 4:00 am</div>,\n",
              " <div class=\"available-date-component\">Available 28/10 at 2:00 am</div>,\n",
              " <div class=\"available-date-component\">Available 28/10 at 2:00 am</div>]"
            ]
          },
          "metadata": {},
          "execution_count": 5
        }
      ]
    },
    {
      "cell_type": "code",
      "source": [
        "soup.find_all('h3', class_='headline-5')"
      ],
      "metadata": {
        "colab": {
          "base_uri": "https://localhost:8080/"
        },
        "id": "U4lhLKBqKVex",
        "outputId": "d3c177b6-9d1f-429e-e116-c485dff1136c"
      },
      "execution_count": 6,
      "outputs": [
        {
          "output_type": "execute_result",
          "data": {
            "text/plain": [
              "[<h3 class=\"headline-5 mb1-sm fs16-sm\"> <!-- -->ISPA Universal</h3>,\n",
              " <h3 class=\"headline-5 mb1-sm fs16-sm\"> <!-- -->Women's Cortez</h3>,\n",
              " <h3 class=\"headline-5 mb1-sm fs16-sm\"> <!-- -->Air Max 2 CB '94</h3>,\n",
              " <h3 class=\"headline-5 mb1-sm fs16-sm\"> <!-- -->Women's Air Footscape Woven</h3>,\n",
              " <h3 class=\"headline-5 mb1-sm fs16-sm\"> <!-- -->Air Humara</h3>,\n",
              " <h3 class=\"headline-5 mb1-sm fs16-sm\"> <!-- -->Air Jordan 13</h3>,\n",
              " <h3 class=\"headline-5 mb1-sm fs16-sm\"> <!-- -->Air Jordan 12</h3>]"
            ]
          },
          "metadata": {},
          "execution_count": 6
        }
      ]
    },
    {
      "cell_type": "code",
      "source": [
        "soup.find_all('div', class_='d-sm-tc va-sm-m')"
      ],
      "metadata": {
        "colab": {
          "base_uri": "https://localhost:8080/"
        },
        "id": "EWXJS8X3d2Vv",
        "outputId": "7c03d965-134d-45a5-90b5-4c47735433d0"
      },
      "execution_count": 35,
      "outputs": [
        {
          "output_type": "execute_result",
          "data": {
            "text/plain": [
              "[<div class=\"d-sm-tc va-sm-m\"><h3 class=\"headline-5 mb1-sm fs16-sm\"> <!-- -->ISPA Universal</h3><h6 class=\"text-color-secondary mb-1-sm body-3\"><div class=\"available-date-component\">Available 24/10 at 4:00 am</div></h6></div>,\n",
              " <div class=\"d-sm-tc va-sm-m\"><h3 class=\"headline-5 mb1-sm fs16-sm\"> <!-- -->Women's Cortez</h3><h6 class=\"text-color-secondary mb-1-sm body-3\"><div class=\"available-date-component\">Available 24/10 at 4:00 am</div></h6></div>,\n",
              " <div class=\"d-sm-tc va-sm-m\"><h3 class=\"headline-5 mb1-sm fs16-sm\"> <!-- -->Air Max 2 CB '94</h3><h6 class=\"text-color-secondary mb-1-sm body-3\"><div class=\"available-date-component\">Available 25/10 at 4:00 am</div></h6></div>,\n",
              " <div class=\"d-sm-tc va-sm-m\"><h3 class=\"headline-5 mb1-sm fs16-sm\"> <!-- -->Women's Air Footscape Woven</h3><h6 class=\"text-color-secondary mb-1-sm body-3\"><div class=\"available-date-component\">Available 25/10 at 4:00 am</div></h6></div>,\n",
              " <div class=\"d-sm-tc va-sm-m\"><h3 class=\"headline-5 mb1-sm fs16-sm\"> <!-- -->Air Humara</h3><h6 class=\"text-color-secondary mb-1-sm body-3\"><div class=\"available-date-component\">Available 27/10 at 4:00 am</div></h6></div>,\n",
              " <div class=\"d-sm-tc va-sm-m\"><h3 class=\"headline-5 mb1-sm fs16-sm\"> <!-- -->Air Jordan 13</h3><h6 class=\"text-color-secondary mb-1-sm body-3\"><div class=\"available-date-component\">Available 28/10 at 2:00 am</div></h6></div>,\n",
              " <div class=\"d-sm-tc va-sm-m\"><h3 class=\"headline-5 mb1-sm fs16-sm\"> <!-- -->Air Jordan 12</h3><h6 class=\"text-color-secondary mb-1-sm body-3\"><div class=\"available-date-component\">Available 28/10 at 2:00 am</div></h6></div>]"
            ]
          },
          "metadata": {},
          "execution_count": 35
        }
      ]
    },
    {
      "cell_type": "code",
      "source": [
        "resultlist = []\n",
        "\n",
        "for item in soup.find_all('div', class_=\"d-sm-tc va-sm-m\"):\n",
        "  name = item.h3.text.strip()\n",
        "  date = item.find('div', class_='available-date-component').text.strip()\n",
        "\n",
        "  result = {\n",
        "      \"Name\" : name,\n",
        "      \"Date\" : date\n",
        "  }\n",
        "\n",
        "  resultlist.append(result)"
      ],
      "metadata": {
        "id": "aqOQEdQDLCRK"
      },
      "execution_count": 7,
      "outputs": []
    },
    {
      "cell_type": "code",
      "source": [
        "resultlist"
      ],
      "metadata": {
        "colab": {
          "base_uri": "https://localhost:8080/"
        },
        "id": "nRfDCkurMpET",
        "outputId": "d87159c1-39fc-475f-df8e-cd90f41b0a4d"
      },
      "execution_count": 8,
      "outputs": [
        {
          "output_type": "execute_result",
          "data": {
            "text/plain": [
              "[{'Name': 'ISPA Universal', 'Date': 'Available 24/10 at 4:00 am'},\n",
              " {'Name': \"Women's Cortez\", 'Date': 'Available 24/10 at 4:00 am'},\n",
              " {'Name': \"Air Max 2 CB '94\", 'Date': 'Available 25/10 at 4:00 am'},\n",
              " {'Name': \"Women's Air Footscape Woven\", 'Date': 'Available 25/10 at 4:00 am'},\n",
              " {'Name': 'Air Humara', 'Date': 'Available 27/10 at 4:00 am'},\n",
              " {'Name': 'Air Jordan 13', 'Date': 'Available 28/10 at 2:00 am'},\n",
              " {'Name': 'Air Jordan 12', 'Date': 'Available 28/10 at 2:00 am'}]"
            ]
          },
          "metadata": {},
          "execution_count": 8
        }
      ]
    },
    {
      "cell_type": "code",
      "source": [
        "import json"
      ],
      "metadata": {
        "id": "knP8SjCKMtzb"
      },
      "execution_count": 9,
      "outputs": []
    },
    {
      "cell_type": "code",
      "source": [
        "json_result = json.dumps(resultlist, indent=3)\n",
        "print(json_result)"
      ],
      "metadata": {
        "colab": {
          "base_uri": "https://localhost:8080/"
        },
        "id": "IJ4KqlI0NNM7",
        "outputId": "4b7e3681-1831-4ec6-8853-c5a47ac0dfc8"
      },
      "execution_count": 10,
      "outputs": [
        {
          "output_type": "stream",
          "name": "stdout",
          "text": [
            "[\n",
            "   {\n",
            "      \"Name\": \"ISPA Universal\",\n",
            "      \"Date\": \"Available 24/10 at 4:00 am\"\n",
            "   },\n",
            "   {\n",
            "      \"Name\": \"Women's Cortez\",\n",
            "      \"Date\": \"Available 24/10 at 4:00 am\"\n",
            "   },\n",
            "   {\n",
            "      \"Name\": \"Air Max 2 CB '94\",\n",
            "      \"Date\": \"Available 25/10 at 4:00 am\"\n",
            "   },\n",
            "   {\n",
            "      \"Name\": \"Women's Air Footscape Woven\",\n",
            "      \"Date\": \"Available 25/10 at 4:00 am\"\n",
            "   },\n",
            "   {\n",
            "      \"Name\": \"Air Humara\",\n",
            "      \"Date\": \"Available 27/10 at 4:00 am\"\n",
            "   },\n",
            "   {\n",
            "      \"Name\": \"Air Jordan 13\",\n",
            "      \"Date\": \"Available 28/10 at 2:00 am\"\n",
            "   },\n",
            "   {\n",
            "      \"Name\": \"Air Jordan 12\",\n",
            "      \"Date\": \"Available 28/10 at 2:00 am\"\n",
            "   }\n",
            "]\n"
          ]
        }
      ]
    },
    {
      "cell_type": "code",
      "source": [
        "import re"
      ],
      "metadata": {
        "id": "g9JygTAQNQH6"
      },
      "execution_count": 11,
      "outputs": []
    },
    {
      "cell_type": "code",
      "source": [
        "for item in soup.find_all('div', class_=\"d-sm-tc va-sm-m\"):\n",
        "  name = item.h3.text.strip()\n",
        "  date = item.find('div', class_='available-date-component').text.strip()\n",
        "\n",
        "  date_match = re.search(r'(\\d{1,2}/\\d{1,2})', date)\n",
        "  time_match = re.search(r'(\\d{1,2}:\\d{2} [APMapm]{2})', date)\n",
        "  print(time_match)"
      ],
      "metadata": {
        "colab": {
          "base_uri": "https://localhost:8080/"
        },
        "id": "AUXo_0NAQKwS",
        "outputId": "ec28c719-03ac-40b1-f08b-184f2832b021"
      },
      "execution_count": 12,
      "outputs": [
        {
          "output_type": "stream",
          "name": "stdout",
          "text": [
            "<re.Match object; span=(19, 26), match='4:00 am'>\n",
            "<re.Match object; span=(19, 26), match='4:00 am'>\n",
            "<re.Match object; span=(19, 26), match='4:00 am'>\n",
            "<re.Match object; span=(19, 26), match='4:00 am'>\n",
            "<re.Match object; span=(19, 26), match='4:00 am'>\n",
            "<re.Match object; span=(19, 26), match='2:00 am'>\n",
            "<re.Match object; span=(19, 26), match='2:00 am'>\n"
          ]
        }
      ]
    },
    {
      "cell_type": "code",
      "source": [
        "resultlist = []\n",
        "\n",
        "for item in soup.find_all('div', class_=\"d-sm-tc va-sm-m\"):\n",
        "  name = item.h3.text.strip()\n",
        "  date = item.find('div', class_='available-date-component').text.strip()\n",
        "\n",
        "  date_match = re.search(r'(\\d{1,2}/\\d{1,2})', date)\n",
        "  time_match = re.search(r'(\\d{1,2}:\\d{2} [APMapm]{2})', date)\n",
        "\n",
        "  if date_match and time_match:\n",
        "    date = date_match.group(1)\n",
        "    time = time_match.group(1)\n",
        "\n",
        "    result = {\n",
        "      \"Name\" : name,\n",
        "      \"Date\" : date,\n",
        "      \"Time\" : time\n",
        "    }\n",
        "\n",
        "  resultlist.append(result)\n",
        "\n",
        "json_result = json.dumps(resultlist, indent=3)"
      ],
      "metadata": {
        "id": "LteZFjS8PlyD"
      },
      "execution_count": 13,
      "outputs": []
    },
    {
      "cell_type": "code",
      "source": [
        "print(json_result)"
      ],
      "metadata": {
        "colab": {
          "base_uri": "https://localhost:8080/"
        },
        "id": "UdzP-nqEQtnj",
        "outputId": "06cd72b5-0146-4e88-ad63-464e59720783"
      },
      "execution_count": 14,
      "outputs": [
        {
          "output_type": "stream",
          "name": "stdout",
          "text": [
            "[\n",
            "   {\n",
            "      \"Name\": \"ISPA Universal\",\n",
            "      \"Date\": \"24/10\",\n",
            "      \"Time\": \"4:00 am\"\n",
            "   },\n",
            "   {\n",
            "      \"Name\": \"Women's Cortez\",\n",
            "      \"Date\": \"24/10\",\n",
            "      \"Time\": \"4:00 am\"\n",
            "   },\n",
            "   {\n",
            "      \"Name\": \"Air Max 2 CB '94\",\n",
            "      \"Date\": \"25/10\",\n",
            "      \"Time\": \"4:00 am\"\n",
            "   },\n",
            "   {\n",
            "      \"Name\": \"Women's Air Footscape Woven\",\n",
            "      \"Date\": \"25/10\",\n",
            "      \"Time\": \"4:00 am\"\n",
            "   },\n",
            "   {\n",
            "      \"Name\": \"Air Humara\",\n",
            "      \"Date\": \"27/10\",\n",
            "      \"Time\": \"4:00 am\"\n",
            "   },\n",
            "   {\n",
            "      \"Name\": \"Air Jordan 13\",\n",
            "      \"Date\": \"28/10\",\n",
            "      \"Time\": \"2:00 am\"\n",
            "   },\n",
            "   {\n",
            "      \"Name\": \"Air Jordan 12\",\n",
            "      \"Date\": \"28/10\",\n",
            "      \"Time\": \"2:00 am\"\n",
            "   }\n",
            "]\n"
          ]
        }
      ]
    },
    {
      "cell_type": "markdown",
      "source": [
        "### `Time adjustment`"
      ],
      "metadata": {
        "id": "5QN0CW7ETamK"
      }
    },
    {
      "cell_type": "code",
      "source": [
        "from datetime import datetime, timedelta\n",
        "import pytz"
      ],
      "metadata": {
        "id": "i_jT7xRhSjNq"
      },
      "execution_count": 15,
      "outputs": []
    },
    {
      "cell_type": "code",
      "source": [
        "from datetime import datetime, timedelta\n",
        "import pytz\n",
        "import json\n",
        "import re\n",
        "\n",
        "resultlist = []\n",
        "\n",
        "for item in soup.find_all(\"a\", class_='ncss-col-sm-8 launch-details u-full-height va-sm-t full'):\n",
        "    link = 'https://www.nike.com'+ item['href']\n",
        "    name = item.h3.text.strip()\n",
        "    date = item.find('div', class_='available-date-component').text.strip()\n",
        "\n",
        "    date_match = re.search(r'(\\d{1,2}/\\d{1,2})', date)\n",
        "    time_match = re.search(r'(\\d{1,2}:\\d{2} [APMapm]{2})', date)\n",
        "\n",
        "    if date_match and time_match:\n",
        "        date = date_match.group(1)\n",
        "        time = time_match.group(1)\n",
        "\n",
        "        # Convert the time to UTC+8\n",
        "        datetime_str = f\"{date} {time}\"\n",
        "        datetime_obj = datetime.strptime(datetime_str, \"%d/%m %I:%M %p\")\n",
        "\n",
        "        # Assuming UTC is the original timezone of your input\n",
        "        utc_time = datetime_obj.replace(tzinfo=pytz.utc)\n",
        "        utc_plus_8_time = utc_time.astimezone(pytz.timezone(\"Asia/Shanghai\"))\n",
        "\n",
        "        result = {\n",
        "            \"Name\": name,\n",
        "            \"Date\": date,\n",
        "            \"Time\": time,\n",
        "            \"Time (UTC+8)\": utc_plus_8_time.strftime(\"%H:%M %p\"),\n",
        "            'Link': link\n",
        "        }\n",
        "\n",
        "        resultlist.append(result)\n",
        "\n",
        "json_result = json.dumps(resultlist, indent=3)\n",
        "print(json_result)\n"
      ],
      "metadata": {
        "colab": {
          "base_uri": "https://localhost:8080/"
        },
        "id": "nzmLpLFTTXaL",
        "outputId": "c0f80542-ae64-4624-c48b-a512b5bec683"
      },
      "execution_count": 51,
      "outputs": [
        {
          "output_type": "stream",
          "name": "stdout",
          "text": [
            "[\n",
            "   {\n",
            "      \"Name\": \"ISPA Universal\",\n",
            "      \"Date\": \"24/10\",\n",
            "      \"Time\": \"4:00 am\",\n",
            "      \"Time (UTC+8)\": \"12:06 PM\",\n",
            "      \"Link\": \"https://www.nike.com/my/launch/t/ispa-universal-natural-and-earth\"\n",
            "   },\n",
            "   {\n",
            "      \"Name\": \"Women's Cortez\",\n",
            "      \"Date\": \"24/10\",\n",
            "      \"Time\": \"4:00 am\",\n",
            "      \"Time (UTC+8)\": \"12:06 PM\",\n",
            "      \"Link\": \"https://www.nike.com/my/launch/t/womens-cortez-fir\"\n",
            "   },\n",
            "   {\n",
            "      \"Name\": \"Air Max 2 CB '94\",\n",
            "      \"Date\": \"25/10\",\n",
            "      \"Time\": \"4:00 am\",\n",
            "      \"Time (UTC+8)\": \"12:06 PM\",\n",
            "      \"Link\": \"https://www.nike.com/my/launch/t/nike-air-max-2-cb-94-black-and-metallic-silver\"\n",
            "   },\n",
            "   {\n",
            "      \"Name\": \"Women's Air Footscape Woven\",\n",
            "      \"Date\": \"25/10\",\n",
            "      \"Time\": \"4:00 am\",\n",
            "      \"Time (UTC+8)\": \"12:06 PM\",\n",
            "      \"Link\": \"https://www.nike.com/my/launch/t/womens-air-footscape-woven-fir\"\n",
            "   },\n",
            "   {\n",
            "      \"Name\": \"Air Humara\",\n",
            "      \"Date\": \"27/10\",\n",
            "      \"Time\": \"4:00 am\",\n",
            "      \"Time (UTC+8)\": \"12:06 PM\",\n",
            "      \"Link\": \"https://www.nike.com/my/launch/t/air-humara-buff-gold\"\n",
            "   },\n",
            "   {\n",
            "      \"Name\": \"Air Jordan 13\",\n",
            "      \"Date\": \"28/10\",\n",
            "      \"Time\": \"2:00 am\",\n",
            "      \"Time (UTC+8)\": \"10:06 AM\",\n",
            "      \"Link\": \"https://www.nike.com/my/launch/t/air-jordan-13-wheat\"\n",
            "   },\n",
            "   {\n",
            "      \"Name\": \"Air Jordan 12\",\n",
            "      \"Date\": \"28/10\",\n",
            "      \"Time\": \"2:00 am\",\n",
            "      \"Time (UTC+8)\": \"10:06 AM\",\n",
            "      \"Link\": \"https://www.nike.com/my/launch/t/air-jordan-12-cherry\"\n",
            "   }\n",
            "]\n"
          ]
        }
      ]
    },
    {
      "cell_type": "code",
      "source": [
        "import pandas as pd"
      ],
      "metadata": {
        "id": "RjuZ-ffAT71k"
      },
      "execution_count": 52,
      "outputs": []
    },
    {
      "cell_type": "code",
      "source": [
        "df = pd.read_json(json_result)"
      ],
      "metadata": {
        "id": "Wtu5LLJ2ZxS4"
      },
      "execution_count": 53,
      "outputs": []
    },
    {
      "cell_type": "code",
      "source": [
        "df"
      ],
      "metadata": {
        "colab": {
          "base_uri": "https://localhost:8080/",
          "height": 269
        },
        "id": "dMtkFXoFZ0sh",
        "outputId": "cd1d760a-1c79-43a7-8dac-d4c9b845bc0a"
      },
      "execution_count": 54,
      "outputs": [
        {
          "output_type": "execute_result",
          "data": {
            "text/plain": [
              "                          Name   Date     Time Time (UTC+8)  \\\n",
              "0               ISPA Universal  24/10  4:00 am     12:06 PM   \n",
              "1               Women's Cortez  24/10  4:00 am     12:06 PM   \n",
              "2             Air Max 2 CB '94  25/10  4:00 am     12:06 PM   \n",
              "3  Women's Air Footscape Woven  25/10  4:00 am     12:06 PM   \n",
              "4                   Air Humara  27/10  4:00 am     12:06 PM   \n",
              "5                Air Jordan 13  28/10  2:00 am     10:06 AM   \n",
              "6                Air Jordan 12  28/10  2:00 am     10:06 AM   \n",
              "\n",
              "                                                Link  \n",
              "0  https://www.nike.com/my/launch/t/ispa-universa...  \n",
              "1  https://www.nike.com/my/launch/t/womens-cortez...  \n",
              "2  https://www.nike.com/my/launch/t/nike-air-max-...  \n",
              "3  https://www.nike.com/my/launch/t/womens-air-fo...  \n",
              "4  https://www.nike.com/my/launch/t/air-humara-bu...  \n",
              "5  https://www.nike.com/my/launch/t/air-jordan-13...  \n",
              "6  https://www.nike.com/my/launch/t/air-jordan-12...  "
            ],
            "text/html": [
              "\n",
              "  <div id=\"df-8862951a-0684-4239-994e-718867bf6427\" class=\"colab-df-container\">\n",
              "    <div>\n",
              "<style scoped>\n",
              "    .dataframe tbody tr th:only-of-type {\n",
              "        vertical-align: middle;\n",
              "    }\n",
              "\n",
              "    .dataframe tbody tr th {\n",
              "        vertical-align: top;\n",
              "    }\n",
              "\n",
              "    .dataframe thead th {\n",
              "        text-align: right;\n",
              "    }\n",
              "</style>\n",
              "<table border=\"1\" class=\"dataframe\">\n",
              "  <thead>\n",
              "    <tr style=\"text-align: right;\">\n",
              "      <th></th>\n",
              "      <th>Name</th>\n",
              "      <th>Date</th>\n",
              "      <th>Time</th>\n",
              "      <th>Time (UTC+8)</th>\n",
              "      <th>Link</th>\n",
              "    </tr>\n",
              "  </thead>\n",
              "  <tbody>\n",
              "    <tr>\n",
              "      <th>0</th>\n",
              "      <td>ISPA Universal</td>\n",
              "      <td>24/10</td>\n",
              "      <td>4:00 am</td>\n",
              "      <td>12:06 PM</td>\n",
              "      <td>https://www.nike.com/my/launch/t/ispa-universa...</td>\n",
              "    </tr>\n",
              "    <tr>\n",
              "      <th>1</th>\n",
              "      <td>Women's Cortez</td>\n",
              "      <td>24/10</td>\n",
              "      <td>4:00 am</td>\n",
              "      <td>12:06 PM</td>\n",
              "      <td>https://www.nike.com/my/launch/t/womens-cortez...</td>\n",
              "    </tr>\n",
              "    <tr>\n",
              "      <th>2</th>\n",
              "      <td>Air Max 2 CB '94</td>\n",
              "      <td>25/10</td>\n",
              "      <td>4:00 am</td>\n",
              "      <td>12:06 PM</td>\n",
              "      <td>https://www.nike.com/my/launch/t/nike-air-max-...</td>\n",
              "    </tr>\n",
              "    <tr>\n",
              "      <th>3</th>\n",
              "      <td>Women's Air Footscape Woven</td>\n",
              "      <td>25/10</td>\n",
              "      <td>4:00 am</td>\n",
              "      <td>12:06 PM</td>\n",
              "      <td>https://www.nike.com/my/launch/t/womens-air-fo...</td>\n",
              "    </tr>\n",
              "    <tr>\n",
              "      <th>4</th>\n",
              "      <td>Air Humara</td>\n",
              "      <td>27/10</td>\n",
              "      <td>4:00 am</td>\n",
              "      <td>12:06 PM</td>\n",
              "      <td>https://www.nike.com/my/launch/t/air-humara-bu...</td>\n",
              "    </tr>\n",
              "    <tr>\n",
              "      <th>5</th>\n",
              "      <td>Air Jordan 13</td>\n",
              "      <td>28/10</td>\n",
              "      <td>2:00 am</td>\n",
              "      <td>10:06 AM</td>\n",
              "      <td>https://www.nike.com/my/launch/t/air-jordan-13...</td>\n",
              "    </tr>\n",
              "    <tr>\n",
              "      <th>6</th>\n",
              "      <td>Air Jordan 12</td>\n",
              "      <td>28/10</td>\n",
              "      <td>2:00 am</td>\n",
              "      <td>10:06 AM</td>\n",
              "      <td>https://www.nike.com/my/launch/t/air-jordan-12...</td>\n",
              "    </tr>\n",
              "  </tbody>\n",
              "</table>\n",
              "</div>\n",
              "    <div class=\"colab-df-buttons\">\n",
              "\n",
              "  <div class=\"colab-df-container\">\n",
              "    <button class=\"colab-df-convert\" onclick=\"convertToInteractive('df-8862951a-0684-4239-994e-718867bf6427')\"\n",
              "            title=\"Convert this dataframe to an interactive table.\"\n",
              "            style=\"display:none;\">\n",
              "\n",
              "  <svg xmlns=\"http://www.w3.org/2000/svg\" height=\"24px\" viewBox=\"0 -960 960 960\">\n",
              "    <path d=\"M120-120v-720h720v720H120Zm60-500h600v-160H180v160Zm220 220h160v-160H400v160Zm0 220h160v-160H400v160ZM180-400h160v-160H180v160Zm440 0h160v-160H620v160ZM180-180h160v-160H180v160Zm440 0h160v-160H620v160Z\"/>\n",
              "  </svg>\n",
              "    </button>\n",
              "\n",
              "  <style>\n",
              "    .colab-df-container {\n",
              "      display:flex;\n",
              "      gap: 12px;\n",
              "    }\n",
              "\n",
              "    .colab-df-convert {\n",
              "      background-color: #E8F0FE;\n",
              "      border: none;\n",
              "      border-radius: 50%;\n",
              "      cursor: pointer;\n",
              "      display: none;\n",
              "      fill: #1967D2;\n",
              "      height: 32px;\n",
              "      padding: 0 0 0 0;\n",
              "      width: 32px;\n",
              "    }\n",
              "\n",
              "    .colab-df-convert:hover {\n",
              "      background-color: #E2EBFA;\n",
              "      box-shadow: 0px 1px 2px rgba(60, 64, 67, 0.3), 0px 1px 3px 1px rgba(60, 64, 67, 0.15);\n",
              "      fill: #174EA6;\n",
              "    }\n",
              "\n",
              "    .colab-df-buttons div {\n",
              "      margin-bottom: 4px;\n",
              "    }\n",
              "\n",
              "    [theme=dark] .colab-df-convert {\n",
              "      background-color: #3B4455;\n",
              "      fill: #D2E3FC;\n",
              "    }\n",
              "\n",
              "    [theme=dark] .colab-df-convert:hover {\n",
              "      background-color: #434B5C;\n",
              "      box-shadow: 0px 1px 3px 1px rgba(0, 0, 0, 0.15);\n",
              "      filter: drop-shadow(0px 1px 2px rgba(0, 0, 0, 0.3));\n",
              "      fill: #FFFFFF;\n",
              "    }\n",
              "  </style>\n",
              "\n",
              "    <script>\n",
              "      const buttonEl =\n",
              "        document.querySelector('#df-8862951a-0684-4239-994e-718867bf6427 button.colab-df-convert');\n",
              "      buttonEl.style.display =\n",
              "        google.colab.kernel.accessAllowed ? 'block' : 'none';\n",
              "\n",
              "      async function convertToInteractive(key) {\n",
              "        const element = document.querySelector('#df-8862951a-0684-4239-994e-718867bf6427');\n",
              "        const dataTable =\n",
              "          await google.colab.kernel.invokeFunction('convertToInteractive',\n",
              "                                                    [key], {});\n",
              "        if (!dataTable) return;\n",
              "\n",
              "        const docLinkHtml = 'Like what you see? Visit the ' +\n",
              "          '<a target=\"_blank\" href=https://colab.research.google.com/notebooks/data_table.ipynb>data table notebook</a>'\n",
              "          + ' to learn more about interactive tables.';\n",
              "        element.innerHTML = '';\n",
              "        dataTable['output_type'] = 'display_data';\n",
              "        await google.colab.output.renderOutput(dataTable, element);\n",
              "        const docLink = document.createElement('div');\n",
              "        docLink.innerHTML = docLinkHtml;\n",
              "        element.appendChild(docLink);\n",
              "      }\n",
              "    </script>\n",
              "  </div>\n",
              "\n",
              "\n",
              "<div id=\"df-ae8c3fd5-5d73-4ecd-b848-ff7d9bc234cf\">\n",
              "  <button class=\"colab-df-quickchart\" onclick=\"quickchart('df-ae8c3fd5-5d73-4ecd-b848-ff7d9bc234cf')\"\n",
              "            title=\"Suggest charts.\"\n",
              "            style=\"display:none;\">\n",
              "\n",
              "<svg xmlns=\"http://www.w3.org/2000/svg\" height=\"24px\"viewBox=\"0 0 24 24\"\n",
              "     width=\"24px\">\n",
              "    <g>\n",
              "        <path d=\"M19 3H5c-1.1 0-2 .9-2 2v14c0 1.1.9 2 2 2h14c1.1 0 2-.9 2-2V5c0-1.1-.9-2-2-2zM9 17H7v-7h2v7zm4 0h-2V7h2v10zm4 0h-2v-4h2v4z\"/>\n",
              "    </g>\n",
              "</svg>\n",
              "  </button>\n",
              "\n",
              "<style>\n",
              "  .colab-df-quickchart {\n",
              "      --bg-color: #E8F0FE;\n",
              "      --fill-color: #1967D2;\n",
              "      --hover-bg-color: #E2EBFA;\n",
              "      --hover-fill-color: #174EA6;\n",
              "      --disabled-fill-color: #AAA;\n",
              "      --disabled-bg-color: #DDD;\n",
              "  }\n",
              "\n",
              "  [theme=dark] .colab-df-quickchart {\n",
              "      --bg-color: #3B4455;\n",
              "      --fill-color: #D2E3FC;\n",
              "      --hover-bg-color: #434B5C;\n",
              "      --hover-fill-color: #FFFFFF;\n",
              "      --disabled-bg-color: #3B4455;\n",
              "      --disabled-fill-color: #666;\n",
              "  }\n",
              "\n",
              "  .colab-df-quickchart {\n",
              "    background-color: var(--bg-color);\n",
              "    border: none;\n",
              "    border-radius: 50%;\n",
              "    cursor: pointer;\n",
              "    display: none;\n",
              "    fill: var(--fill-color);\n",
              "    height: 32px;\n",
              "    padding: 0;\n",
              "    width: 32px;\n",
              "  }\n",
              "\n",
              "  .colab-df-quickchart:hover {\n",
              "    background-color: var(--hover-bg-color);\n",
              "    box-shadow: 0 1px 2px rgba(60, 64, 67, 0.3), 0 1px 3px 1px rgba(60, 64, 67, 0.15);\n",
              "    fill: var(--button-hover-fill-color);\n",
              "  }\n",
              "\n",
              "  .colab-df-quickchart-complete:disabled,\n",
              "  .colab-df-quickchart-complete:disabled:hover {\n",
              "    background-color: var(--disabled-bg-color);\n",
              "    fill: var(--disabled-fill-color);\n",
              "    box-shadow: none;\n",
              "  }\n",
              "\n",
              "  .colab-df-spinner {\n",
              "    border: 2px solid var(--fill-color);\n",
              "    border-color: transparent;\n",
              "    border-bottom-color: var(--fill-color);\n",
              "    animation:\n",
              "      spin 1s steps(1) infinite;\n",
              "  }\n",
              "\n",
              "  @keyframes spin {\n",
              "    0% {\n",
              "      border-color: transparent;\n",
              "      border-bottom-color: var(--fill-color);\n",
              "      border-left-color: var(--fill-color);\n",
              "    }\n",
              "    20% {\n",
              "      border-color: transparent;\n",
              "      border-left-color: var(--fill-color);\n",
              "      border-top-color: var(--fill-color);\n",
              "    }\n",
              "    30% {\n",
              "      border-color: transparent;\n",
              "      border-left-color: var(--fill-color);\n",
              "      border-top-color: var(--fill-color);\n",
              "      border-right-color: var(--fill-color);\n",
              "    }\n",
              "    40% {\n",
              "      border-color: transparent;\n",
              "      border-right-color: var(--fill-color);\n",
              "      border-top-color: var(--fill-color);\n",
              "    }\n",
              "    60% {\n",
              "      border-color: transparent;\n",
              "      border-right-color: var(--fill-color);\n",
              "    }\n",
              "    80% {\n",
              "      border-color: transparent;\n",
              "      border-right-color: var(--fill-color);\n",
              "      border-bottom-color: var(--fill-color);\n",
              "    }\n",
              "    90% {\n",
              "      border-color: transparent;\n",
              "      border-bottom-color: var(--fill-color);\n",
              "    }\n",
              "  }\n",
              "</style>\n",
              "\n",
              "  <script>\n",
              "    async function quickchart(key) {\n",
              "      const quickchartButtonEl =\n",
              "        document.querySelector('#' + key + ' button');\n",
              "      quickchartButtonEl.disabled = true;  // To prevent multiple clicks.\n",
              "      quickchartButtonEl.classList.add('colab-df-spinner');\n",
              "      try {\n",
              "        const charts = await google.colab.kernel.invokeFunction(\n",
              "            'suggestCharts', [key], {});\n",
              "      } catch (error) {\n",
              "        console.error('Error during call to suggestCharts:', error);\n",
              "      }\n",
              "      quickchartButtonEl.classList.remove('colab-df-spinner');\n",
              "      quickchartButtonEl.classList.add('colab-df-quickchart-complete');\n",
              "    }\n",
              "    (() => {\n",
              "      let quickchartButtonEl =\n",
              "        document.querySelector('#df-ae8c3fd5-5d73-4ecd-b848-ff7d9bc234cf button');\n",
              "      quickchartButtonEl.style.display =\n",
              "        google.colab.kernel.accessAllowed ? 'block' : 'none';\n",
              "    })();\n",
              "  </script>\n",
              "</div>\n",
              "    </div>\n",
              "  </div>\n"
            ]
          },
          "metadata": {},
          "execution_count": 54
        }
      ]
    },
    {
      "cell_type": "code",
      "source": [
        "links = soup.find_all(\"a\", class_='ncss-col-sm-8 launch-details u-full-height va-sm-t full')"
      ],
      "metadata": {
        "id": "VCbAtnMSaJC5"
      },
      "execution_count": 45,
      "outputs": []
    },
    {
      "cell_type": "code",
      "source": [
        "for linklist in links:\n",
        "  print(linklist['href'])"
      ],
      "metadata": {
        "colab": {
          "base_uri": "https://localhost:8080/"
        },
        "id": "N4RHvopRdCiQ",
        "outputId": "7a5aef5f-ed22-46b3-dedf-dbb905d51801"
      },
      "execution_count": 47,
      "outputs": [
        {
          "output_type": "stream",
          "name": "stdout",
          "text": [
            "/my/launch/t/ispa-universal-natural-and-earth\n",
            "/my/launch/t/womens-cortez-fir\n",
            "/my/launch/t/nike-air-max-2-cb-94-black-and-metallic-silver\n",
            "/my/launch/t/womens-air-footscape-woven-fir\n",
            "/my/launch/t/air-humara-buff-gold\n",
            "/my/launch/t/air-jordan-13-wheat\n",
            "/my/launch/t/air-jordan-12-cherry\n"
          ]
        }
      ]
    },
    {
      "cell_type": "code",
      "source": [
        "#skuraw = soup.find_all('a', class_='card-link d-sm-b')"
      ],
      "metadata": {
        "id": "FRqmm-4Afevm"
      },
      "execution_count": 59,
      "outputs": []
    },
    {
      "cell_type": "markdown",
      "source": [
        "https://api.nike.com/deliver/available_gtins/v3/?filter=styleColor(SKUID)&filter=merchGroup(XA)"
      ],
      "metadata": {
        "id": "PTmPhVWZlnCs"
      }
    },
    {
      "cell_type": "code",
      "source": [
        "for extract in skuraw:\n",
        "  print(extract.find_all('img', class_='image-component'))"
      ],
      "metadata": {
        "colab": {
          "base_uri": "https://localhost:8080/"
        },
        "id": "xeJgMIRsjPcN",
        "outputId": "a705d683-17a4-4535-997e-110e13f30692"
      },
      "execution_count": 72,
      "outputs": [
        {
          "output_type": "stream",
          "name": "stdout",
          "text": [
            "[]\n",
            "[]\n",
            "[]\n",
            "[]\n",
            "[]\n",
            "[]\n",
            "[]\n",
            "[<img alt=\"ISPA Universal\" class=\"image-component\" src=\"https://static.nike.com/a/images/t_prod_ss/w_960,c_limit,f_auto/d4e799d5-4a17-4670-90f5-1f6ded6c7c31/ispa-universal-natural-and-earth-dm0886-200-release-date.jpg\" style=\"opacity:0\" title=\"ISPA Universal\"/>]\n",
            "[<img alt=\"Women's Cortez\" class=\"image-component\" src=\"https://static.nike.com/a/images/t_prod_ss/w_960,c_limit,f_auto/8e884cc5-b0c9-4e4d-bf18-b3636f173283/women-s-cortez-fir-dz2795-300-release-date.jpg\" style=\"opacity:0\" title=\"Women's Cortez\"/>]\n",
            "[<img alt=\"Air Max 2 CB '94\" class=\"image-component\" src=\"https://static.nike.com/a/images/t_prod_ss/w_960,c_limit,f_auto/da0a1cdb-796b-4503-bfa3-a4d5db63f75f/nike-air-max-2-cb-94-black-and-metallic-silver-dc1411-001-release-date.jpg\" style=\"opacity:0\" title=\"Air Max 2 CB '94\"/>]\n",
            "[<img alt=\"Women's Air Footscape Woven\" class=\"image-component\" src=\"https://static.nike.com/a/images/t_prod_ss/w_960,c_limit,f_auto/1dc27bcc-34b4-4f15-9580-9454000a9fe2/women-s-air-footscape-woven-fir-fn3540-300-release-date.jpg\" style=\"opacity:0\" title=\"Women's Air Footscape Woven\"/>]\n",
            "[<img alt=\"Air Humara\" class=\"image-component\" src=\"https://static.nike.com/a/images/t_prod_ss/w_960,c_limit,f_auto/8e486fa0-4c73-4f26-af5d-a541ffbccab6/air-humara-buff-gold-fj7098-701-release-date.jpg\" style=\"opacity:0\" title=\"Air Humara\"/>]\n",
            "[<img alt=\"Air Jordan 13\" class=\"image-component\" src=\"https://static.nike.com/a/images/t_prod_ss/w_960,c_limit,f_auto/59052f3b-f867-45a8-93ae-26166af4f68c/air-jordan-13-wheat-414571-171-release-date.jpg\" style=\"opacity:0\" title=\"Air Jordan 13\"/>]\n",
            "[<img alt=\"Air Jordan 12\" class=\"image-component\" src=\"https://static.nike.com/a/images/t_prod_ss/w_960,c_limit,f_auto/efed64d8-cc7b-40d8-b29c-e8f3eae1389e/air-jordan-12-cherry-ct8013-116-release-date.jpg\" style=\"opacity:0\" title=\"Air Jordan 12\"/>]\n"
          ]
        }
      ]
    },
    {
      "cell_type": "code",
      "source": [
        "skuraw = soup.find_all('img', class_='image-component')"
      ],
      "metadata": {
        "id": "P3w0X8WjmayF"
      },
      "execution_count": 76,
      "outputs": []
    },
    {
      "cell_type": "code",
      "source": [
        "sku_pattern = r'/([a-zA-Z0-9-]+)-release-date\\.jpg$'\n",
        "for items in skuraw :\n",
        "  skuid = items['src']\n",
        "  match = re.search(sku_pattern, skuid)\n",
        "  if match:\n",
        "    sku_id = match.group(1)\n",
        "    print(\"SKU ID:\", sku_id)\n",
        "  else:\n",
        "    print(\"SKU ID not found\")"
      ],
      "metadata": {
        "colab": {
          "base_uri": "https://localhost:8080/"
        },
        "id": "GHcL_RpQnn7k",
        "outputId": "3b5535d7-a4f4-46ba-b167-c74b4d87b48a"
      },
      "execution_count": 78,
      "outputs": [
        {
          "output_type": "stream",
          "name": "stdout",
          "text": [
            "SKU ID: ispa-universal-natural-and-earth-dm0886-200\n",
            "SKU ID: women-s-cortez-fir-dz2795-300\n",
            "SKU ID: nike-air-max-2-cb-94-black-and-metallic-silver-dc1411-001\n",
            "SKU ID: women-s-air-footscape-woven-fir-fn3540-300\n",
            "SKU ID: air-humara-buff-gold-fj7098-701\n",
            "SKU ID: air-jordan-13-wheat-414571-171\n",
            "SKU ID: air-jordan-12-cherry-ct8013-116\n"
          ]
        }
      ]
    },
    {
      "cell_type": "code",
      "source": [],
      "metadata": {
        "id": "MnARiFl1oKm0"
      },
      "execution_count": null,
      "outputs": []
    }
  ]
}